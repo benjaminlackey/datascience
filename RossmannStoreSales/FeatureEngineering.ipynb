{
 "cells": [
  {
   "cell_type": "markdown",
   "metadata": {},
   "source": [
    "Data fields:\n",
    "\n",
    "* Id - an Id that represents a (Store, Date) duple within the test set\n",
    "* Store - a unique Id for each store\n",
    "* Sales - the turnover for any given day (this is what you are predicting)\n",
    "* Customers - the number of customers on a given day\n",
    "* Open - an indicator for whether the store was open: 0 = closed, 1 = open\n",
    "* StateHoliday - indicates a state holiday. Normally all stores, with few exceptions, are closed on state holidays. Note that all schools are closed on public holidays and weekends. a = public holiday, b = Easter holiday, c = Christmas, 0 = None\n",
    "* SchoolHoliday - indicates if the (Store, Date) was affected by the closure of public schools\n",
    "* StoreType - differentiates between 4 different store models: a, b, c, d\n",
    "* Assortment - describes an assortment level: a = basic, b = extra, c = extended\n",
    "* CompetitionDistance - distance in meters to the nearest competitor store\n",
    "* CompetitionOpenSince[Month/Year] - gives the approximate year and month of the time the nearest competitor was opened\n",
    "* Promo - indicates whether a store is running a promo on that day\n",
    "* Promo2 - Promo2 is a continuing and consecutive promotion for some stores: 0 = store is not participating, 1 = store is participating\n",
    "* Promo2Since[Year/Week] - describes the year and calendar week when the store started participating in Promo2\n",
    "* PromoInterval - describes the consecutive intervals Promo2 is started, naming the months the promotion is started anew. E.g. \"Feb,May,Aug,Nov\" means each round starts in February, May, August, November of any given year for that store"
   ]
  },
  {
   "cell_type": "markdown",
   "metadata": {},
   "source": [
    "# Create the following competition/promotion variables\n",
    "\n",
    " * CompetitionOn - There is currently competition for store x on day y\n",
    " \n",
    "From https://www.kaggle.com/c/rossmann-store-sales/discussion/16867#97369:\n",
    "\"Promo2 is a coupon based mailing campaign that is send to customers of participating stores.\n",
    "Each letter contains several coupons, mostly for a general discount on all products which are valid for three months.\n",
    "So after/right before these coupons have expired we send a new round of mail to our customers\"\n",
    "\n",
    "Create 2 columns:\n",
    " * MonthsSinceCouponsMailed (use sentinel value if promo is not currently operating)"
   ]
  },
  {
   "cell_type": "code",
   "execution_count": 1,
   "metadata": {},
   "outputs": [
    {
     "name": "stdout",
     "output_type": "stream",
     "text": [
      "Populating the interactive namespace from numpy and matplotlib\n",
      "0.24.1\n"
     ]
    }
   ],
   "source": [
    "%pylab inline\n",
    "\n",
    "#from __future__ import division\n",
    "\n",
    "import timeit\n",
    "\n",
    "# Data handling\n",
    "import numpy as np\n",
    "import pandas as pd\n",
    "\n",
    "# Plotting\n",
    "import matplotlib.pyplot as plt\n",
    "import seaborn as sns\n",
    "\n",
    "print pd.__version__"
   ]
  },
  {
   "cell_type": "markdown",
   "metadata": {},
   "source": [
    "# Data cleaning functions"
   ]
  },
  {
   "cell_type": "code",
   "execution_count": 2,
   "metadata": {},
   "outputs": [],
   "source": [
    "def clean_competition_distance(df):\n",
    "    \"\"\"If the CompetitionDistance is NaN, then there isn't any competition.\n",
    "    Just replace the NaN with the maximum competition distance.\n",
    "    \"\"\"\n",
    "    max_distance = df['CompetitionDistance'].max()\n",
    "    df['CompetitionDistance'] = df['CompetitionDistance'].fillna(value=max_distance)\n",
    "    return df"
   ]
  },
  {
   "cell_type": "code",
   "execution_count": 3,
   "metadata": {},
   "outputs": [],
   "source": [
    "def clean_competition_open_since_date(df):\n",
    "    \"\"\"If the CompetitionOpenSinceYear and CompetitionOpenSinceMonth are NaN, \n",
    "    then the competition was always open. \n",
    "    So, replace the NaN with the earliest possible year and month.\n",
    "    \"\"\"\n",
    "    min_year = df['CompetitionOpenSinceYear'].min()\n",
    "    min_month = 1\n",
    "    df['CompetitionOpenSinceYear'] = df['CompetitionOpenSinceYear'].fillna(value=min_year)\n",
    "    df['CompetitionOpenSinceMonth'] = df['CompetitionOpenSinceMonth'].fillna(value=min_month)\n",
    "    return df"
   ]
  },
  {
   "cell_type": "code",
   "execution_count": 4,
   "metadata": {},
   "outputs": [],
   "source": [
    "def convert_date_to_ymd(df):\n",
    "    \"\"\"Extract year, month, day from 'Date' column,\n",
    "    then replace it with the 3 columns 'Year', 'Month', 'DayOfMonth'. \n",
    "    \"\"\"\n",
    "    year = df['Date'].apply(lambda x: int(x[:4]))\n",
    "    month = df['Date'].apply(lambda x: int(x[5:7]))\n",
    "    day = df['Date'].apply(lambda x: int(x[8:]))\n",
    "    \n",
    "    # Create new columns\n",
    "    df['Year'] = year\n",
    "    df['Month'] = month\n",
    "    df['DayOfMonth'] = day\n",
    "    return df"
   ]
  },
  {
   "cell_type": "code",
   "execution_count": 5,
   "metadata": {},
   "outputs": [],
   "source": [
    "import datetime\n",
    "\n",
    "def month_of_year_from_week_of_year(year, week):\n",
    "    \"\"\"Convert week of year to approximate month of year.\n",
    "    You don't know the exact day, so this will be approximate.\n",
    "    \n",
    "    Parameters\n",
    "    ----------\n",
    "    year : int\n",
    "    week : int (1 to 52)\n",
    "    \n",
    "    Returns\n",
    "    -------\n",
    "    month : int (1 to 12)\n",
    "    \"\"\"\n",
    "    # Days from the first day of the year\n",
    "    day = (week-1)*7\n",
    "    # datetime indexes days and months starting at 1\n",
    "    date = datetime.datetime(int(year), 1, 1) + datetime.timedelta(int(day))\n",
    "    # You want months indexed starting at 1\n",
    "    return date.month"
   ]
  },
  {
   "cell_type": "code",
   "execution_count": 6,
   "metadata": {},
   "outputs": [],
   "source": [
    "def promo_interval_to_months_since_coupons_mailed(month, promo_interval):\n",
    "    \"\"\"Determine the months since coupons were mailed.\n",
    "    If coupons were never mailed, use a sentinel value of 3\n",
    "    \n",
    "    Parameters\n",
    "    ----------\n",
    "    month : int \n",
    "        Month number ('Jan'=1, 'Dec'=12)\n",
    "    promo_interval : str\n",
    "        [nan, 'Jan,Apr,Jul,Oct', 'Feb,May,Aug,Nov', 'Mar,Jun,Sept,Dec']\n",
    "        \n",
    "    Returns\n",
    "    -------\n",
    "    months_since : int\n",
    "        Months since the coupons were mailed\n",
    "    \"\"\"\n",
    "    if promo_interval=='Jan,Apr,Jul,Oct':\n",
    "        months_since = [0, 1, 2, 0, 1, 2, 0, 1, 2, 0, 1, 2]\n",
    "        return months_since[month-1]\n",
    "    elif promo_interval=='Feb,May,Aug,Nov':\n",
    "        months_since = [2, 0, 1, 2, 0, 1, 2, 0, 1, 2, 0, 1]\n",
    "        return months_since[month-1]\n",
    "    elif promo_interval=='Mar,Jun,Sept,Dec':\n",
    "        months_since = [1, 2, 0, 1, 2, 0, 1, 2, 0, 1, 2, 0]\n",
    "        return months_since[month-1]\n",
    "    else:\n",
    "        return -1"
   ]
  },
  {
   "cell_type": "code",
   "execution_count": 7,
   "metadata": {},
   "outputs": [],
   "source": [
    "def clean_store_data(df_store):\n",
    "    df_store = clean_competition_distance(df_store)\n",
    "    df_store = clean_competition_open_since_date(df_store)\n",
    "    return df_store"
   ]
  },
  {
   "cell_type": "markdown",
   "metadata": {},
   "source": [
    "# Load data"
   ]
  },
  {
   "cell_type": "code",
   "execution_count": 8,
   "metadata": {},
   "outputs": [],
   "source": [
    "# More detailed data about each store\n",
    "df_store = pd.read_csv('store.csv', low_memory=False)\n",
    "\n",
    "# Data for each store for each day. Nrows ~ Nstores*Ndays\n",
    "df_train = pd.read_csv('train.csv', low_memory=False)\n",
    "df_test = pd.read_csv('test.csv', low_memory=False)"
   ]
  },
  {
   "cell_type": "markdown",
   "metadata": {},
   "source": [
    "# Clean Store data"
   ]
  },
  {
   "cell_type": "code",
   "execution_count": 9,
   "metadata": {},
   "outputs": [],
   "source": [
    "df_store = clean_store_data(df_store)"
   ]
  },
  {
   "cell_type": "markdown",
   "metadata": {},
   "source": [
    "# Join train/test sets with store data, then clean it"
   ]
  },
  {
   "cell_type": "code",
   "execution_count": 10,
   "metadata": {},
   "outputs": [],
   "source": [
    "def months_since_coupons_mailed(df_row):\n",
    "    \"\"\"If there is a coupon promotion, give the months since the coupons were mailed.\n",
    "    Otherwise, return -1.\n",
    "    \"\"\"\n",
    "    year = df_row['Year']\n",
    "    month = df_row['Month']\n",
    "    promo_start_year = df_row['Promo2SinceYear']\n",
    "    promo_start_week = df_row['Promo2SinceWeek']\n",
    "    promo_interval = df_row['PromoInterval']\n",
    "    #print year, month, promo_start_year, promo_start_week, promo_interval\n",
    "    \n",
    "    # Test if there ever was a promo\n",
    "    if (np.isnan(promo_start_year) | np.isnan(promo_start_week)):\n",
    "        return -1\n",
    "       \n",
    "    # Test if the promo has started\n",
    "    promo_start_month = month_of_year_from_week_of_year(promo_start_year, promo_start_week)\n",
    "    #print promo_start_month\n",
    "    if (12*year+month)>=(12*promo_start_year+promo_start_month):\n",
    "        return promo_interval_to_months_since_coupons_mailed(month, promo_interval)\n",
    "    else:\n",
    "        return -1"
   ]
  },
  {
   "cell_type": "code",
   "execution_count": 11,
   "metadata": {},
   "outputs": [],
   "source": [
    "def competition_open_flag(df_row):\n",
    "    \"\"\"Flag if a competitor's store is open.\n",
    "    \"\"\"\n",
    "    year = df_row['Year']\n",
    "    month = df_row['Month']\n",
    "    competition_open_year = df_row['CompetitionOpenSinceYear']\n",
    "    competition_open_month = df_row['CompetitionOpenSinceMonth']\n",
    "    \n",
    "    if (12*year+month)>=(12*competition_open_year+competition_open_month):\n",
    "        return 1\n",
    "    else:\n",
    "        return 0"
   ]
  },
  {
   "cell_type": "code",
   "execution_count": 12,
   "metadata": {},
   "outputs": [],
   "source": [
    "# Pandas df.merge() performs a database-style join. Don't use the Pandas df.join() function.\n",
    "df_train = df_train.merge(df_store, on='Store', how='inner')\n",
    "df_test = df_test.merge(df_store, on='Store', how='inner')"
   ]
  },
  {
   "cell_type": "code",
   "execution_count": 13,
   "metadata": {},
   "outputs": [],
   "source": [
    "# TODO: You could switch this to a 6 week trailing moving average instead of a global average\n",
    "\n",
    "# Get the average daily sales for a given store for the training set\n",
    "store_id = df_train['Store'].unique()\n",
    "for i in store_id:\n",
    "    mean_sales = df_train[df_train['Store']==i]['Sales'].mean()\n",
    "    df_train.loc[(df_train['Store']==i), 'MeanSales'] = mean_sales\n",
    "    \n",
    "# Now copy the training set value over to the test set.\n",
    "# You won't know the test-set value in advance (it's one of the things you're trying to predict).\n",
    "store_id = df_test['Store'].unique()\n",
    "for i in store_id:\n",
    "    mean_sales = df_train[df_train['Store']==i]['MeanSales'].mean()\n",
    "    df_test.loc[(df_test['Store']==i), 'MeanSales'] = mean_sales"
   ]
  },
  {
   "cell_type": "code",
   "execution_count": 14,
   "metadata": {},
   "outputs": [],
   "source": [
    "# Fix the 11 'NaN' values in the 'Open' column of the test set.\n",
    "# Better to assume store 622 is open than closed.\n",
    "df_test['Open'] = df_test['Open'].fillna(value=1)"
   ]
  },
  {
   "cell_type": "code",
   "execution_count": 15,
   "metadata": {},
   "outputs": [],
   "source": [
    "# Make columns for 'Year', 'Month', 'DayOfMonth'\n",
    "df_train = convert_date_to_ymd(df_train)\n",
    "df_test = convert_date_to_ymd(df_test)"
   ]
  },
  {
   "cell_type": "code",
   "execution_count": 16,
   "metadata": {},
   "outputs": [
    {
     "name": "stdout",
     "output_type": "stream",
     "text": [
      "399.349657059\n"
     ]
    }
   ],
   "source": [
    "# Make column for months since last coupon booklet was mailed\n",
    "\n",
    "t0 = timeit.time.time()\n",
    "\n",
    "months_since_coupons = [months_since_coupons_mailed(df_train.loc[i]) for i in range(len(df_train))]\n",
    "df_train['MonthsSinceCoupons'] = months_since_coupons\n",
    "\n",
    "months_since_coupons = [months_since_coupons_mailed(df_test.loc[i]) for i in range(len(df_test))]\n",
    "df_test['MonthsSinceCoupons'] = months_since_coupons\n",
    "\n",
    "t1 = timeit.time.time()\n",
    "print t1-t0"
   ]
  },
  {
   "cell_type": "code",
   "execution_count": 17,
   "metadata": {},
   "outputs": [
    {
     "name": "stdout",
     "output_type": "stream",
     "text": [
      "384.17772603\n"
     ]
    }
   ],
   "source": [
    "# Make binary column for a competitor's store nearby\n",
    "\n",
    "t0 = timeit.time.time()\n",
    "\n",
    "competition_open = [competition_open_flag(df_train.loc[i]) for i in range(len(df_train))]\n",
    "df_train['CompetitionOpen'] = competition_open\n",
    "\n",
    "competition_open = [competition_open_flag(df_test.loc[i]) for i in range(len(df_test))]\n",
    "df_test['CompetitionOpen'] = competition_open\n",
    "\n",
    "t1 = timeit.time.time()\n",
    "print t1-t0"
   ]
  },
  {
   "cell_type": "code",
   "execution_count": 18,
   "metadata": {},
   "outputs": [
    {
     "data": {
      "text/html": [
       "<div>\n",
       "<style scoped>\n",
       "    .dataframe tbody tr th:only-of-type {\n",
       "        vertical-align: middle;\n",
       "    }\n",
       "\n",
       "    .dataframe tbody tr th {\n",
       "        vertical-align: top;\n",
       "    }\n",
       "\n",
       "    .dataframe thead th {\n",
       "        text-align: right;\n",
       "    }\n",
       "</style>\n",
       "<table border=\"1\" class=\"dataframe\">\n",
       "  <thead>\n",
       "    <tr style=\"text-align: right;\">\n",
       "      <th></th>\n",
       "      <th>Id</th>\n",
       "      <th>Store</th>\n",
       "      <th>DayOfWeek</th>\n",
       "      <th>Date</th>\n",
       "      <th>Open</th>\n",
       "      <th>Promo</th>\n",
       "      <th>StateHoliday</th>\n",
       "      <th>SchoolHoliday</th>\n",
       "      <th>StoreType</th>\n",
       "      <th>Assortment</th>\n",
       "      <th>...</th>\n",
       "      <th>Promo2</th>\n",
       "      <th>Promo2SinceWeek</th>\n",
       "      <th>Promo2SinceYear</th>\n",
       "      <th>PromoInterval</th>\n",
       "      <th>MeanSales</th>\n",
       "      <th>Year</th>\n",
       "      <th>Month</th>\n",
       "      <th>DayOfMonth</th>\n",
       "      <th>MonthsSinceCoupons</th>\n",
       "      <th>CompetitionOpen</th>\n",
       "    </tr>\n",
       "  </thead>\n",
       "  <tbody>\n",
       "    <tr>\n",
       "      <th>0</th>\n",
       "      <td>1</td>\n",
       "      <td>1</td>\n",
       "      <td>4</td>\n",
       "      <td>2015-09-17</td>\n",
       "      <td>1.0</td>\n",
       "      <td>1</td>\n",
       "      <td>0</td>\n",
       "      <td>0</td>\n",
       "      <td>c</td>\n",
       "      <td>a</td>\n",
       "      <td>...</td>\n",
       "      <td>0</td>\n",
       "      <td>NaN</td>\n",
       "      <td>NaN</td>\n",
       "      <td>NaN</td>\n",
       "      <td>3945.704883</td>\n",
       "      <td>2015</td>\n",
       "      <td>9</td>\n",
       "      <td>17</td>\n",
       "      <td>-1</td>\n",
       "      <td>1</td>\n",
       "    </tr>\n",
       "    <tr>\n",
       "      <th>1</th>\n",
       "      <td>857</td>\n",
       "      <td>1</td>\n",
       "      <td>3</td>\n",
       "      <td>2015-09-16</td>\n",
       "      <td>1.0</td>\n",
       "      <td>1</td>\n",
       "      <td>0</td>\n",
       "      <td>0</td>\n",
       "      <td>c</td>\n",
       "      <td>a</td>\n",
       "      <td>...</td>\n",
       "      <td>0</td>\n",
       "      <td>NaN</td>\n",
       "      <td>NaN</td>\n",
       "      <td>NaN</td>\n",
       "      <td>3945.704883</td>\n",
       "      <td>2015</td>\n",
       "      <td>9</td>\n",
       "      <td>16</td>\n",
       "      <td>-1</td>\n",
       "      <td>1</td>\n",
       "    </tr>\n",
       "    <tr>\n",
       "      <th>2</th>\n",
       "      <td>1713</td>\n",
       "      <td>1</td>\n",
       "      <td>2</td>\n",
       "      <td>2015-09-15</td>\n",
       "      <td>1.0</td>\n",
       "      <td>1</td>\n",
       "      <td>0</td>\n",
       "      <td>0</td>\n",
       "      <td>c</td>\n",
       "      <td>a</td>\n",
       "      <td>...</td>\n",
       "      <td>0</td>\n",
       "      <td>NaN</td>\n",
       "      <td>NaN</td>\n",
       "      <td>NaN</td>\n",
       "      <td>3945.704883</td>\n",
       "      <td>2015</td>\n",
       "      <td>9</td>\n",
       "      <td>15</td>\n",
       "      <td>-1</td>\n",
       "      <td>1</td>\n",
       "    </tr>\n",
       "    <tr>\n",
       "      <th>3</th>\n",
       "      <td>2569</td>\n",
       "      <td>1</td>\n",
       "      <td>1</td>\n",
       "      <td>2015-09-14</td>\n",
       "      <td>1.0</td>\n",
       "      <td>1</td>\n",
       "      <td>0</td>\n",
       "      <td>0</td>\n",
       "      <td>c</td>\n",
       "      <td>a</td>\n",
       "      <td>...</td>\n",
       "      <td>0</td>\n",
       "      <td>NaN</td>\n",
       "      <td>NaN</td>\n",
       "      <td>NaN</td>\n",
       "      <td>3945.704883</td>\n",
       "      <td>2015</td>\n",
       "      <td>9</td>\n",
       "      <td>14</td>\n",
       "      <td>-1</td>\n",
       "      <td>1</td>\n",
       "    </tr>\n",
       "    <tr>\n",
       "      <th>4</th>\n",
       "      <td>3425</td>\n",
       "      <td>1</td>\n",
       "      <td>7</td>\n",
       "      <td>2015-09-13</td>\n",
       "      <td>0.0</td>\n",
       "      <td>0</td>\n",
       "      <td>0</td>\n",
       "      <td>0</td>\n",
       "      <td>c</td>\n",
       "      <td>a</td>\n",
       "      <td>...</td>\n",
       "      <td>0</td>\n",
       "      <td>NaN</td>\n",
       "      <td>NaN</td>\n",
       "      <td>NaN</td>\n",
       "      <td>3945.704883</td>\n",
       "      <td>2015</td>\n",
       "      <td>9</td>\n",
       "      <td>13</td>\n",
       "      <td>-1</td>\n",
       "      <td>1</td>\n",
       "    </tr>\n",
       "  </tbody>\n",
       "</table>\n",
       "<p>5 rows × 23 columns</p>\n",
       "</div>"
      ],
      "text/plain": [
       "     Id  Store  DayOfWeek        Date  Open  Promo StateHoliday  \\\n",
       "0     1      1          4  2015-09-17   1.0      1            0   \n",
       "1   857      1          3  2015-09-16   1.0      1            0   \n",
       "2  1713      1          2  2015-09-15   1.0      1            0   \n",
       "3  2569      1          1  2015-09-14   1.0      1            0   \n",
       "4  3425      1          7  2015-09-13   0.0      0            0   \n",
       "\n",
       "   SchoolHoliday StoreType Assortment  ...  Promo2  Promo2SinceWeek  \\\n",
       "0              0         c          a  ...       0              NaN   \n",
       "1              0         c          a  ...       0              NaN   \n",
       "2              0         c          a  ...       0              NaN   \n",
       "3              0         c          a  ...       0              NaN   \n",
       "4              0         c          a  ...       0              NaN   \n",
       "\n",
       "   Promo2SinceYear  PromoInterval    MeanSales  Year Month  DayOfMonth  \\\n",
       "0              NaN            NaN  3945.704883  2015     9          17   \n",
       "1              NaN            NaN  3945.704883  2015     9          16   \n",
       "2              NaN            NaN  3945.704883  2015     9          15   \n",
       "3              NaN            NaN  3945.704883  2015     9          14   \n",
       "4              NaN            NaN  3945.704883  2015     9          13   \n",
       "\n",
       "   MonthsSinceCoupons  CompetitionOpen  \n",
       "0                  -1                1  \n",
       "1                  -1                1  \n",
       "2                  -1                1  \n",
       "3                  -1                1  \n",
       "4                  -1                1  \n",
       "\n",
       "[5 rows x 23 columns]"
      ]
     },
     "execution_count": 18,
     "metadata": {},
     "output_type": "execute_result"
    }
   ],
   "source": [
    "df_test.head()"
   ]
  },
  {
   "cell_type": "code",
   "execution_count": 19,
   "metadata": {},
   "outputs": [],
   "source": [
    "# Do one-hot-encoding for the 3 categorical columns\n",
    "df_train = pd.get_dummies(df_train, columns=['StoreType', 'Assortment', 'StateHoliday'])\n",
    "df_test = pd.get_dummies(df_test, columns=['StoreType', 'Assortment', 'StateHoliday'])"
   ]
  },
  {
   "cell_type": "code",
   "execution_count": 22,
   "metadata": {},
   "outputs": [
    {
     "name": "stdout",
     "output_type": "stream",
     "text": [
      "Index([u'Store', u'DayOfWeek', u'Date', u'Sales', u'Customers', u'Open',\n",
      "       u'Promo', u'SchoolHoliday', u'CompetitionDistance',\n",
      "       u'CompetitionOpenSinceMonth', u'CompetitionOpenSinceYear', u'Promo2',\n",
      "       u'Promo2SinceWeek', u'Promo2SinceYear', u'PromoInterval', u'MeanSales',\n",
      "       u'Year', u'Month', u'DayOfMonth', u'MonthsSinceCoupons',\n",
      "       u'CompetitionOpen', u'StoreType_a', u'StoreType_b', u'StoreType_c',\n",
      "       u'StoreType_d', u'Assortment_a', u'Assortment_b', u'Assortment_c',\n",
      "       u'StateHoliday_0', u'StateHoliday_a', u'StateHoliday_b',\n",
      "       u'StateHoliday_c'],\n",
      "      dtype='object')\n",
      "Index([u'Id', u'Store', u'DayOfWeek', u'Date', u'Open', u'Promo',\n",
      "       u'SchoolHoliday', u'CompetitionDistance', u'CompetitionOpenSinceMonth',\n",
      "       u'CompetitionOpenSinceYear', u'Promo2', u'Promo2SinceWeek',\n",
      "       u'Promo2SinceYear', u'PromoInterval', u'MeanSales', u'Year', u'Month',\n",
      "       u'DayOfMonth', u'MonthsSinceCoupons', u'CompetitionOpen',\n",
      "       u'StoreType_a', u'StoreType_b', u'StoreType_c', u'StoreType_d',\n",
      "       u'Assortment_a', u'Assortment_b', u'Assortment_c', u'StateHoliday_0',\n",
      "       u'StateHoliday_a'],\n",
      "      dtype='object')\n"
     ]
    }
   ],
   "source": [
    "print df_train.columns\n",
    "print df_test.columns"
   ]
  },
  {
   "cell_type": "code",
   "execution_count": 24,
   "metadata": {},
   "outputs": [
    {
     "data": {
      "text/plain": [
       "Index([u'Customers', u'Sales', u'StateHoliday_b', u'StateHoliday_c'], dtype='object')"
      ]
     },
     "execution_count": 24,
     "metadata": {},
     "output_type": "execute_result"
    }
   ],
   "source": [
    "df_train.columns.difference(df_test.columns)"
   ]
  },
  {
   "cell_type": "code",
   "execution_count": 27,
   "metadata": {},
   "outputs": [],
   "source": [
    "def add_missing_dummy_columns(df, columns):\n",
    "    \"\"\"Create a column of 0's if it does not already exist\n",
    "    \"\"\"\n",
    "    missing_cols = set(columns) - set(df.columns)\n",
    "    for c in missing_cols:\n",
    "        print c\n",
    "        df[c] = 0"
   ]
  },
  {
   "cell_type": "code",
   "execution_count": 28,
   "metadata": {},
   "outputs": [
    {
     "name": "stdout",
     "output_type": "stream",
     "text": [
      "StateHoliday_b\n",
      "StateHoliday_c\n"
     ]
    }
   ],
   "source": [
    "# The only StateHoliday in the test set is type a\n",
    "# a = public holiday, b = Easter holiday, c = Christmas\n",
    "# Test set is August, September\n",
    "# August 15: \"Assumption of Mary\" in Saarland and Bavaria\n",
    "add_missing_dummy_columns(df_test, ['StateHoliday_0', 'StateHoliday_a', 'StateHoliday_b', 'StateHoliday_c'])"
   ]
  },
  {
   "cell_type": "code",
   "execution_count": 34,
   "metadata": {},
   "outputs": [
    {
     "data": {
      "text/plain": [
       "count    41088.000000\n",
       "mean         0.004381\n",
       "std          0.066044\n",
       "min          0.000000\n",
       "25%          0.000000\n",
       "50%          0.000000\n",
       "75%          0.000000\n",
       "max          1.000000\n",
       "Name: StateHoliday_a, dtype: float64"
      ]
     },
     "execution_count": 34,
     "metadata": {},
     "output_type": "execute_result"
    }
   ],
   "source": [
    "df_test['StateHoliday_a'].describe()"
   ]
  },
  {
   "cell_type": "code",
   "execution_count": 36,
   "metadata": {},
   "outputs": [
    {
     "name": "stdout",
     "output_type": "stream",
     "text": [
      "Store                             0\n",
      "DayOfWeek                         0\n",
      "Date                              0\n",
      "Sales                             0\n",
      "Customers                         0\n",
      "Open                              0\n",
      "Promo                             0\n",
      "SchoolHoliday                     0\n",
      "CompetitionDistance               0\n",
      "CompetitionOpenSinceMonth         0\n",
      "CompetitionOpenSinceYear          0\n",
      "Promo2                            0\n",
      "Promo2SinceWeek              508031\n",
      "Promo2SinceYear              508031\n",
      "PromoInterval                508031\n",
      "MeanSales                         0\n",
      "Year                              0\n",
      "Month                             0\n",
      "DayOfMonth                        0\n",
      "MonthsSinceCoupons                0\n",
      "CompetitionOpen                   0\n",
      "StoreType_a                       0\n",
      "StoreType_b                       0\n",
      "StoreType_c                       0\n",
      "StoreType_d                       0\n",
      "Assortment_a                      0\n",
      "Assortment_b                      0\n",
      "Assortment_c                      0\n",
      "StateHoliday_0                    0\n",
      "StateHoliday_a                    0\n",
      "StateHoliday_b                    0\n",
      "StateHoliday_c                    0\n",
      "dtype: int64\n",
      "Id                               0\n",
      "Store                            0\n",
      "DayOfWeek                        0\n",
      "Date                             0\n",
      "Open                             0\n",
      "Promo                            0\n",
      "SchoolHoliday                    0\n",
      "CompetitionDistance              0\n",
      "CompetitionOpenSinceMonth        0\n",
      "CompetitionOpenSinceYear         0\n",
      "Promo2                           0\n",
      "Promo2SinceWeek              17232\n",
      "Promo2SinceYear              17232\n",
      "PromoInterval                17232\n",
      "MeanSales                        0\n",
      "Year                             0\n",
      "Month                            0\n",
      "DayOfMonth                       0\n",
      "MonthsSinceCoupons               0\n",
      "CompetitionOpen                  0\n",
      "StoreType_a                      0\n",
      "StoreType_b                      0\n",
      "StoreType_c                      0\n",
      "StoreType_d                      0\n",
      "Assortment_a                     0\n",
      "Assortment_b                     0\n",
      "Assortment_c                     0\n",
      "StateHoliday_0                   0\n",
      "StateHoliday_a                   0\n",
      "StateHoliday_b                   0\n",
      "StateHoliday_c                   0\n",
      "dtype: int64\n"
     ]
    }
   ],
   "source": [
    "print df_train.isna().sum()\n",
    "print df_test.isna().sum()"
   ]
  },
  {
   "cell_type": "markdown",
   "metadata": {},
   "source": [
    "# Save the cleaned data"
   ]
  },
  {
   "cell_type": "code",
   "execution_count": 37,
   "metadata": {},
   "outputs": [],
   "source": [
    "df_train.to_csv('train_clean.csv', index=False)\n",
    "df_test.to_csv('test_clean.csv', index=False)"
   ]
  },
  {
   "cell_type": "code",
   "execution_count": null,
   "metadata": {},
   "outputs": [],
   "source": []
  }
 ],
 "metadata": {
  "kernelspec": {
   "display_name": "Python 2",
   "language": "python",
   "name": "python2"
  },
  "language_info": {
   "codemirror_mode": {
    "name": "ipython",
    "version": 2
   },
   "file_extension": ".py",
   "mimetype": "text/x-python",
   "name": "python",
   "nbconvert_exporter": "python",
   "pygments_lexer": "ipython2",
   "version": "2.7.14"
  }
 },
 "nbformat": 4,
 "nbformat_minor": 2
}
