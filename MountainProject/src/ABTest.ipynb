{
 "cells": [
  {
   "cell_type": "markdown",
   "metadata": {},
   "source": [
    "# A/B experiments\n",
    "\n",
    "Goal: If recommendations are useful, users will be engaged and spend more time on the website. This will make them more likely to click on REI banner that links to the REI store.\n",
    "\n",
    "Things to test:\n",
    " * Test if the climbing partner recommendation makes users more likely to contact another climbing partner.\n",
    " * Test which kind of route recommendation makes users more likely to click on a recommended route.\n",
    " * Change in probability of going to REI store.\n",
    " \n",
    "We want to test if $\\lambda$ (\"click through rate\" or \"conversion rate\") increases.  "
   ]
  },
  {
   "cell_type": "code",
   "execution_count": 1,
   "metadata": {},
   "outputs": [
    {
     "name": "stdout",
     "output_type": "stream",
     "text": [
      "Populating the interactive namespace from numpy and matplotlib\n"
     ]
    }
   ],
   "source": [
    "%pylab inline\n",
    "\n",
    "import numpy as np\n",
    "import scipy.stats as stats\n",
    "import scipy.special as special\n",
    "\n",
    "# Plotting\n",
    "import matplotlib.pyplot as plt"
   ]
  },
  {
   "cell_type": "markdown",
   "metadata": {},
   "source": [
    "# Frequentist A/B test (p-value)"
   ]
  },
  {
   "cell_type": "code",
   "execution_count": 2,
   "metadata": {},
   "outputs": [],
   "source": [
    "def estimated_parameters(n, c):\n",
    "    \"\"\"Estimate the parameters of the Binomial distribution from experiment.\n",
    "    For large n, p is approximately a Gaussian random variable.\n",
    "    \n",
    "    Parameters\n",
    "    ----------\n",
    "    n : Number of trials\n",
    "    c : Number of conversions\n",
    "    \n",
    "    Returns\n",
    "    -------\n",
    "    p_hat : Fraction of conversions\n",
    "    sigma : Uncertainty in p_hat\n",
    "    \"\"\"\n",
    "    p_hat = float(c) / n\n",
    "    sigma = np.sqrt(p_hat*(1.0-p_hat)/n)\n",
    "    return p_hat, sigma\n",
    "\n",
    "\n",
    "def normal_probability_below(xhigh, mu=0.0, sigma=1.0):\n",
    "    \"\"\"Area of normal distribution below xhigh.\n",
    "    \"\"\"\n",
    "    # CDF is the area below xhigh\n",
    "    return stats.norm.cdf(xhigh, loc=mu, scale=sigma)\n",
    "\n",
    "\n",
    "def normal_probability_above(xlow, mu=0.0, sigma=1.0):\n",
    "    \"\"\"Area of normal distribution above xlow\n",
    "    \"\"\"\n",
    "    # CDF is the area below xlow, so 1-CDF is the area above xlow.\n",
    "    return 1.0 - stats.norm.cdf(xlow, loc=mu, scale=sigma)\n",
    "\n",
    "\n",
    "def one_sided_p_value(x, mu=0.0, sigma=1.0):\n",
    "    \"\"\"Probability of seeing an outcome greater than a distance |x-mu| from mu on one side. \n",
    "    \"\"\"\n",
    "    # Distance from the mean\n",
    "    dist = np.abs(x-mu)\n",
    "    \n",
    "    # Area of right tail above the mean\n",
    "    area_right = normal_probability_above(dist, 0.0, sigma)\n",
    "    \n",
    "    # Area of both tails that are dist >= |x-mu| from the mean\n",
    "    return area_right\n",
    "\n",
    "\n",
    "def two_sided_p_value(x, mu=0.0, sigma=1.0):\n",
    "    \"\"\"Probability of seeing an outcome greater than a distance |x-mu| from mu on either side. \n",
    "    \"\"\"\n",
    "    # Distance from the mean\n",
    "    dist = np.abs(x-mu)\n",
    "    \n",
    "    # Area of right tail above the mean\n",
    "    area_right = normal_probability_above(dist, 0.0, sigma)\n",
    "    \n",
    "    # Area of both tails that are dist >= |x-mu| from the mean\n",
    "    return 2.0 * area_right\n",
    "\n",
    "\n",
    "class PValueABTest(object):\n",
    "    \"\"\"A/B test using p-value.\n",
    "    \"\"\"\n",
    "    def __init__(self, n_a, c_a, n_b, c_b):\n",
    "        \"\"\"\n",
    "        Parameters\n",
    "        ----------\n",
    "        n_a : Number of trials for experiment A\n",
    "        c_a : Number of conversions for experiment A\n",
    "        n_b : Number of trials for experiment B\n",
    "        c_b : Number of conversions for experiment B\n",
    "        \"\"\"\n",
    "        self.n_a = n_a\n",
    "        self.c_a = c_a\n",
    "        self.n_b = n_b\n",
    "        self.c_b = c_b\n",
    "        \n",
    "    def z_score(self):\n",
    "        \"\"\"Test the null hypothesis that the two distributions are the same (p_A-p_B is zero).\n",
    "        p_A and p_B are approximately normal distributions with parameters (p_i, sigma_i).\n",
    "        p_B-p_A has a normal distribution with mean p_B-p_A and standard deviation sqrt(sigma_A^2+sigma_B^2)\n",
    "        \"\"\"\n",
    "        # Estimate parameters for the Gaussians p_A and p_B\n",
    "        mu_A, sigma_A = estimated_parameters(self.n_a, self.c_a)\n",
    "        mu_B, sigma_B = estimated_parameters(self.n_b, self.c_b)\n",
    "        \n",
    "        # Parameters for the Gaussian p_B-p_A\n",
    "        mu_BminA = mu_B - mu_A\n",
    "        sigma_BminA = np.sqrt(sigma_A**2 + sigma_B**2)\n",
    "        \n",
    "        # Rescale difference p_B-p_A to unit variance\n",
    "        # (This is the z-score / effect size)\n",
    "        z = mu_BminA / sigma_BminA\n",
    "        return z\n",
    "    \n",
    "    def p_value(self, sided=2):\n",
    "        z = self.z_score()\n",
    "        if sided==1:\n",
    "            return one_sided_p_value(z, mu=0.0, sigma=1.0)\n",
    "        elif sided==2:\n",
    "            return two_sided_p_value(z, mu=0.0, sigma=1.0)\n",
    "        else:\n",
    "            raise ValueError(\"Sided must be 1 or 2.\")"
   ]
  },
  {
   "cell_type": "markdown",
   "metadata": {},
   "source": [
    "# Bayesian A/B test"
   ]
  },
  {
   "cell_type": "code",
   "execution_count": 3,
   "metadata": {},
   "outputs": [],
   "source": [
    "class ConversionExperiment(object):\n",
    "    \"\"\"Calculate posterior for conversion rate.\n",
    "    \"\"\"\n",
    "    def __init__(self, alpha, beta, n, c):\n",
    "        \"\"\"\n",
    "        Parameters\n",
    "        alpha, beta : parameters in beta distribution prior\n",
    "        n : Number of trials\n",
    "        c : Number of conversions\n",
    "        \"\"\"\n",
    "        self.alpha = alpha\n",
    "        self.beta = beta\n",
    "        self.n = n\n",
    "        self.c = c\n",
    "        \n",
    "        self.alpha_post = alpha + c\n",
    "        self.beta_post = beta + n - c\n",
    "\n",
    "    def prior(self, lam):\n",
    "        \"\"\"Prior belief in conversion rate lambda.\n",
    "        Beta(alpha, beta) distribution.\n",
    "        \"\"\"\n",
    "        return stats.beta.pdf(lam, self.alpha, self.beta)\n",
    "        \n",
    "    def likelihood(self, lam):\n",
    "        \"\"\"Likelihood of c conversions out of n trials\n",
    "        where the conversion rate is lambda.\n",
    "        This is a binomial distribution if each trial is independent.\n",
    "        \"\"\"\n",
    "        return special.comb(self.n, self.c) * lam**self.c * (1.0-lam)**(self.n-self.c) \n",
    "        \n",
    "    def posterior(self, lam):\n",
    "        \"\"\"Posterior for conversion rate lambda.\n",
    "        \"\"\"\n",
    "        return stats.beta.pdf(lam, self.alpha_post, self.beta_post)    \n",
    "        \n",
    "    def posterior_rvs(self, size=10000):\n",
    "        \"\"\"Random variates sampled from the posterior.\n",
    "        \"\"\"\n",
    "        return stats.beta.rvs(self.alpha_post, self.beta_post, size=size)\n",
    "\n",
    "\n",
    "class BayesABTest(object):\n",
    "    \"\"\"Bayesian A/B test with beta distribution priors.\n",
    "    \"\"\"\n",
    "    def __init__(self, alpha_a, beta_a, n_a, c_a, alpha_b, beta_b, n_b, c_b):\n",
    "        \"\"\"Create 2 conversion experiments (A and B).\n",
    "        \"\"\"\n",
    "        self.exp_a = ConversionExperiment(alpha_a, beta_a, n_a, c_a)\n",
    "        self.exp_b = ConversionExperiment(alpha_b, beta_b, n_b, c_b)\n",
    "\n",
    "    def posterior_ab(self, lam_a, lam_b):\n",
    "        \"\"\"Joint posterior p(lambda_A, lambda_B|d).\n",
    "        Posteriors for lam_a and lam_b are separable, so just multiply them together.\n",
    "        \"\"\"\n",
    "        post_a = self.exp_a.posterior(lam_a)\n",
    "        post_b = self.exp_b.posterior(lam_b)\n",
    "        return post_a * post_b\n",
    "        \n",
    "    def posterior_ab_rvs(self, size=10000):\n",
    "        \"\"\"Sample from the separable joint posterior p(lambda_A, lambda_B|d).\n",
    "        \"\"\"\n",
    "        post_a = self.exp_a.posterior_rvs(size=size)\n",
    "        post_b = self.exp_b.posterior_rvs(size=size)\n",
    "        return np.array([post_a, post_b]).T\n",
    "    \n",
    "    def prob_lamb_greater_lama_rec(self, da=0.001, db=0.001):\n",
    "        \"\"\"Calculate the probability that lambda_B>lambda_A with rectangle rule.\n",
    "        (Integral of the joint posterior p(lambda_A, lambda_B|d) in region lambda_B>lambda_A.)\n",
    "        \"\"\"\n",
    "        lam_as = np.arange(0, 1, da)\n",
    "        lam_bs = np.arange(0, 1, db)\n",
    "        \n",
    "        post_as = self.exp_a.posterior(lam_as)\n",
    "        post_bs = self.exp_b.posterior(lam_bs)\n",
    "        \n",
    "        # Integrate with rectangle rule.\n",
    "        # Posteriors for lam_a and lam_b are separable, \n",
    "        # so you can precalculate them, then just multiply them together. \n",
    "        post_ab_sum = 0.0\n",
    "        for a in range(len(lam_as)):\n",
    "            for b in range(len(lam_bs)):\n",
    "                post_ab = post_as[a] * post_bs[b]\n",
    "                if b>=a:\n",
    "                    post_ab_sum += post_ab\n",
    "        return post_ab_sum*da*db\n",
    "    \n",
    "    def prob_lamb_greater_lama_mc(self, size=10000):\n",
    "        \"\"\"Calculate the probability that lambda_B>lambda_A with Monte Carlo integration.\n",
    "        (Integral of the joint posterior p(lambda_A, lambda_B|d) in region lambda_B>lambda_A.)\n",
    "        \"\"\"\n",
    "        # Draw samples from the joint posterior\n",
    "        lam_a_samp, lam_b_samp = self.posterior_ab_rvs(size=size).T\n",
    "        # Integral is the fraction of samples where lambda_b > lambda_a.\n",
    "        return np.sum(lam_b_samp > lam_a_samp)/float(size)"
   ]
  },
  {
   "cell_type": "markdown",
   "metadata": {},
   "source": [
    "# Analysis of A/B test\n",
    "\n",
    " * Version A has 5000 users. 500 click on the REI banner. (10%)\n",
    " * Version B has 1000 users. 125 click on the REI banner. (12.5%)"
   ]
  },
  {
   "cell_type": "code",
   "execution_count": 28,
   "metadata": {},
   "outputs": [
    {
     "name": "stderr",
     "output_type": "stream",
     "text": [
      "/Users/lackey/Library/Python/2.7/lib/python/site-packages/ipykernel_launcher.py:30: RuntimeWarning: invalid value encountered in multiply\n"
     ]
    },
    {
     "data": {
      "text/plain": [
       "<matplotlib.legend.Legend at 0x13656ea90>"
      ]
     },
     "execution_count": 28,
     "metadata": {},
     "output_type": "execute_result"
    },
    {
     "data": {
      "image/png": "[encoded data removed]",
      "text/plain": [
       "<Figure size 576x432 with 1 Axes>"
      ]
     },
     "metadata": {
      "needs_background": "light"
     },
     "output_type": "display_data"
    }
   ],
   "source": [
    "alpha_a, beta_a, n_a, c_a = 1, 1, 5000, 500\n",
    "alpha_b, beta_b, n_b, c_b = 1, 1, 1000, 125\n",
    "\n",
    "exp_a = ConversionExperiment(alpha_a, beta_a, n_a, c_a)\n",
    "exp_b = ConversionExperiment(alpha_b, beta_b, n_b, c_b)\n",
    "\n",
    "lam = np.linspace(0, 1, 1001)\n",
    "\n",
    "prior_a = exp_a.prior(lam)\n",
    "prior_b = exp_b.prior(lam)\n",
    "\n",
    "like_a = n_a * exp_a.likelihood(lam)\n",
    "like_b = n_b * exp_b.likelihood(lam)\n",
    "\n",
    "post_a = exp_a.posterior(lam)\n",
    "post_b = exp_b.posterior(lam)\n",
    "\n",
    "post_a_samp = exp_a.posterior_rvs(size=10000)\n",
    "post_b_samp = exp_b.posterior_rvs(size=10000)\n",
    "\n",
    "\n",
    "fig, ax = plt.subplots(figsize=(8, 6))\n",
    "\n",
    "ax.plot(lam, prior_a, label='Prior A')\n",
    "ax.plot(lam, prior_b, label='Prior B')\n",
    "ax.plot(lam, like_a, ls='--', label='Likelihood A')\n",
    "ax.plot(lam, like_b, ls='--', label='Likelihood B')\n",
    "\n",
    "ax.plot(lam, post_a, label='Posterior A')\n",
    "ax.plot(lam, post_b, label='Posterior B')\n",
    "\n",
    "ax.hist(post_b_samp-post_a_samp, bins=np.linspace(-0.5, 1, 601), density=True, label=r'$\\lambda_B-\\lambda_A$')\n",
    "ax.axvline(0, c='k', lw=1)\n",
    "\n",
    "ax.set_xlim(-0.1, 0.2)\n",
    "ax.set_ylim(0.0, 1.1*np.max(post_a))\n",
    "ax.set_xlabel(r'Conversion rate $\\lambda$')\n",
    "ax.set_ylabel(r'PDF')\n",
    "ax.legend()"
   ]
  },
  {
   "cell_type": "markdown",
   "metadata": {},
   "source": [
    "## Bayesian A/B test\n",
    "Calculate probability that click-through-rate for experiment B ($\\lambda_B$) is greater than for experiment A ($\\lambda_A$)."
   ]
  },
  {
   "cell_type": "code",
   "execution_count": 29,
   "metadata": {},
   "outputs": [
    {
     "name": "stdout",
     "output_type": "stream",
     "text": [
      "0.9906717867932141\n",
      "0.9904827\n"
     ]
    }
   ],
   "source": [
    "# Probability that version B of page leads to more conversions than version A\n",
    "bayes_ab = BayesABTest(alpha_a, beta_a, n_a, c_a, alpha_b, beta_b, n_b, c_b)\n",
    "print bayes_ab.prob_lamb_greater_lama_rec(da=0.0001, db=0.0001)\n",
    "print bayes_ab.prob_lamb_greater_lama_mc(size=10**7)"
   ]
  },
  {
   "cell_type": "markdown",
   "metadata": {},
   "source": [
    "## Sanity check with p-value\n",
    "Probability of seeing results this extreme assuming the null hypothesis that versions A and B have the same click-through-rates."
   ]
  },
  {
   "cell_type": "code",
   "execution_count": 30,
   "metadata": {},
   "outputs": [
    {
     "name": "stdout",
     "output_type": "stream",
     "text": [
      "2.215123324886302\n",
      "0.013375800430530771\n",
      "0.026751600861061542\n"
     ]
    }
   ],
   "source": [
    "pvalue_ab = PValueABTest(n_a, c_a, n_b, c_b)\n",
    "print pvalue_ab.z_score()\n",
    "print pvalue_ab.p_value(sided=1)\n",
    "print pvalue_ab.p_value(sided=2)"
   ]
  },
  {
   "cell_type": "markdown",
   "metadata": {},
   "source": [
    "# Increase in revenue per visit to mountainproject.com"
   ]
  },
  {
   "cell_type": "code",
   "execution_count": 31,
   "metadata": {},
   "outputs": [],
   "source": [
    "def revenue_per_visit(lam, frac_buy=0.1, mean_sale=100.0):\n",
    "    \"\"\"Estimate expected revenue at REI per visit to mountainproject.com.\n",
    "    \n",
    "    Parameters\n",
    "    ----------\n",
    "    lam : Conversion / click-through rate\n",
    "    frac_buy : Fraction of customers on REI page who make purchase.\n",
    "    mean_sale : Average revenue for customer who does make purchase.\n",
    "    \"\"\"\n",
    "    return lam * frac_buy * mean_sale"
   ]
  },
  {
   "cell_type": "code",
   "execution_count": 32,
   "metadata": {},
   "outputs": [],
   "source": [
    "# Draw samples from the joint posterior\n",
    "size = 10000\n",
    "lam_a_samp, lam_b_samp = bayes_ab.posterior_ab_rvs(size=size).T\n",
    "\n",
    "revenue_a = revenue_per_visit(lam_a_samp)\n",
    "revenue_b = revenue_per_visit(lam_b_samp)\n",
    "\n",
    "delta_revenue = revenue_b - revenue_a"
   ]
  },
  {
   "cell_type": "code",
   "execution_count": 36,
   "metadata": {},
   "outputs": [
    {
     "data": {
      "text/plain": [
       "(-0.2, 2.0)"
      ]
     },
     "execution_count": 36,
     "metadata": {},
     "output_type": "execute_result"
    },
    {
     "data": {
      "image/png": "[encoded data removed]",
      "text/plain": [
       "<Figure size 576x432 with 1 Axes>"
      ]
     },
     "metadata": {
      "needs_background": "light"
     },
     "output_type": "display_data"
    }
   ],
   "source": [
    "fig, ax = plt.subplots(figsize=(8, 6))\n",
    "\n",
    "ax.hist(revenue_a, bins=np.linspace(0, 2, 101), density=True, alpha=0.7, label='Revenue A')\n",
    "ax.hist(revenue_b, bins=np.linspace(0, 2, 101), density=True, alpha=0.7, label='Revenue B')\n",
    "ax.hist(delta_revenue, bins=np.linspace(-1, 1, 101), density=True, alpha=0.7, label='Increase in revenue')\n",
    "\n",
    "ax.axvline(np.percentile(delta_revenue, 5), c='r', ls='--', label='90% confidence')\n",
    "ax.axvline(np.percentile(delta_revenue, 95), c='r', ls='--')\n",
    "\n",
    "ax.axvline(0, c='k', lw=1)\n",
    "ax.legend()\n",
    "ax.set_xlabel('Revenue ($) per mountainproject.com visit')\n",
    "ax.minorticks_on()\n",
    "ax.set_xlim(-0.2, 2.0)"
   ]
  },
  {
   "cell_type": "code",
   "execution_count": null,
   "metadata": {},
   "outputs": [],
   "source": []
  }
 ],
 "metadata": {
  "kernelspec": {
   "display_name": "Python 2",
   "language": "python",
   "name": "python2"
  },
  "language_info": {
   "codemirror_mode": {
    "name": "ipython",
    "version": 2
   },
   "file_extension": ".py",
   "mimetype": "text/x-python",
   "name": "python",
   "nbconvert_exporter": "python",
   "pygments_lexer": "ipython2",
   "version": "2.7.14"
  }
 },
 "nbformat": 4,
 "nbformat_minor": 2
}
