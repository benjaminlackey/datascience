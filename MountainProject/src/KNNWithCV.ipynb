{
 "cells": [
  {
   "cell_type": "markdown",
   "metadata": {},
   "source": [
    "# Train collaborative-filter recommender"
   ]
  },
  {
   "cell_type": "code",
   "execution_count": 3,
   "metadata": {},
   "outputs": [
    {
     "name": "stdout",
     "output_type": "stream",
     "text": [
      "Populating the interactive namespace from numpy and matplotlib\n"
     ]
    }
   ],
   "source": [
    "%pylab inline\n",
    "\n",
    "# Plotting\n",
    "import matplotlib.pyplot as plt\n",
    "import seaborn as sns\n",
    "\n",
    "import numpy as np\n",
    "import sqlite3\n",
    "import pandas as pd\n",
    "\n",
    "import surprise\n",
    "from surprise.model_selection import cross_validate"
   ]
  },
  {
   "cell_type": "markdown",
   "metadata": {},
   "source": [
    "# Load data"
   ]
  },
  {
   "cell_type": "code",
   "execution_count": 44,
   "metadata": {},
   "outputs": [],
   "source": [
    "filename = '../data/mountain_project_gunks.sqlite'\n",
    "conn = sqlite3.connect(filename)\n",
    "\n",
    "# Ratings of each route\n",
    "df_ratings = pd.read_sql('SELECT * FROM ratings', conn)"
   ]
  },
  {
   "cell_type": "code",
   "execution_count": 46,
   "metadata": {
    "scrolled": false
   },
   "outputs": [
    {
     "data": {
      "text/html": [
       "<div>\n",
       "<style scoped>\n",
       "    .dataframe tbody tr th:only-of-type {\n",
       "        vertical-align: middle;\n",
       "    }\n",
       "\n",
       "    .dataframe tbody tr th {\n",
       "        vertical-align: top;\n",
       "    }\n",
       "\n",
       "    .dataframe thead th {\n",
       "        text-align: right;\n",
       "    }\n",
       "</style>\n",
       "<table border=\"1\" class=\"dataframe\">\n",
       "  <thead>\n",
       "    <tr style=\"text-align: right;\">\n",
       "      <th></th>\n",
       "      <th>uid</th>\n",
       "      <th>iid</th>\n",
       "      <th>rating</th>\n",
       "    </tr>\n",
       "  </thead>\n",
       "  <tbody>\n",
       "    <tr>\n",
       "      <th>0</th>\n",
       "      <td>0</td>\n",
       "      <td>0</td>\n",
       "      <td>2</td>\n",
       "    </tr>\n",
       "    <tr>\n",
       "      <th>1</th>\n",
       "      <td>1</td>\n",
       "      <td>0</td>\n",
       "      <td>2</td>\n",
       "    </tr>\n",
       "    <tr>\n",
       "      <th>2</th>\n",
       "      <td>2</td>\n",
       "      <td>0</td>\n",
       "      <td>2</td>\n",
       "    </tr>\n",
       "    <tr>\n",
       "      <th>3</th>\n",
       "      <td>3</td>\n",
       "      <td>0</td>\n",
       "      <td>1</td>\n",
       "    </tr>\n",
       "    <tr>\n",
       "      <th>4</th>\n",
       "      <td>4</td>\n",
       "      <td>0</td>\n",
       "      <td>1</td>\n",
       "    </tr>\n",
       "  </tbody>\n",
       "</table>\n",
       "</div>"
      ],
      "text/plain": [
       "   uid  iid  rating\n",
       "0    0    0       2\n",
       "1    1    0       2\n",
       "2    2    0       2\n",
       "3    3    0       1\n",
       "4    4    0       1"
      ]
     },
     "metadata": {},
     "output_type": "display_data"
    }
   ],
   "source": [
    "display(df_ratings.head(5))"
   ]
  },
  {
   "cell_type": "markdown",
   "metadata": {},
   "source": [
    "# Construct training set in surprise's data format"
   ]
  },
  {
   "cell_type": "code",
   "execution_count": 25,
   "metadata": {},
   "outputs": [],
   "source": [
    "reader = surprise.Reader()\n",
    "data = surprise.Dataset.load_from_df(df_ratings[['uid', 'iid', 'rating']], reader)\n",
    "trainset = data.build_full_trainset()"
   ]
  },
  {
   "cell_type": "code",
   "execution_count": 26,
   "metadata": {},
   "outputs": [
    {
     "name": "stdout",
     "output_type": "stream",
     "text": [
      "2432 470 31431\n"
     ]
    }
   ],
   "source": [
    "print trainset.n_users, trainset.n_items, trainset.n_ratings"
   ]
  },
  {
   "cell_type": "markdown",
   "metadata": {},
   "source": [
    "# Root mean squared error if you just predict the mean rating."
   ]
  },
  {
   "cell_type": "code",
   "execution_count": 47,
   "metadata": {},
   "outputs": [
    {
     "name": "stdout",
     "output_type": "stream",
     "text": [
      "(2.95463077853075, 0.8662467838375435)\n"
     ]
    }
   ],
   "source": [
    "rs = df_ratings['rating'].values\n",
    "\n",
    "n = len(rs)\n",
    "rmean = rs.mean()\n",
    "rmse = np.sqrt(np.sum((rs-rmean)**2)/n)\n",
    "\n",
    "print(rmean, rmse)"
   ]
  },
  {
   "cell_type": "markdown",
   "metadata": {},
   "source": [
    "# Establish baseline with standard algorithms (random, means, SVD)"
   ]
  },
  {
   "cell_type": "code",
   "execution_count": 27,
   "metadata": {},
   "outputs": [
    {
     "name": "stdout",
     "output_type": "stream",
     "text": [
      "RMSE: 1.2103\n",
      "Evaluating RMSE, MAE of algorithm NormalPredictor on 5 split(s).\n",
      "\n",
      "                  Fold 1  Fold 2  Fold 3  Fold 4  Fold 5  Mean    Std     \n",
      "MAE (testset)     0.9836  0.9759  0.9799  0.9798  0.9849  0.9808  0.0032  \n",
      "RMSE (testset)    1.2251  1.2103  1.2046  1.2205  1.2238  1.2169  0.0080  \n",
      "Fit time          0.05    0.05    0.05    0.06    0.05    0.05    0.00    \n",
      "Test time         0.05    0.05    0.05    0.05    0.05    0.05    0.00    \n",
      "1.2103455670747938 1.2168772018293599\n"
     ]
    }
   ],
   "source": [
    "algo = surprise.NormalPredictor()\n",
    "\n",
    "# Fit with entire training set\n",
    "algo.fit(trainset)\n",
    "predictions_train = algo.test(trainset.build_testset())\n",
    "rmse_train = surprise.accuracy.rmse(predictions_train)\n",
    "\n",
    "# Fit for each of k folds\n",
    "cv = cross_validate(algo, data, measures=['RMSE', 'MAE'], cv=5, verbose=True)\n",
    "rmse_cv = cv['test_rmse'].mean()\n",
    "\n",
    "print rmse_train, rmse_cv"
   ]
  },
  {
   "cell_type": "code",
   "execution_count": 28,
   "metadata": {},
   "outputs": [
    {
     "name": "stdout",
     "output_type": "stream",
     "text": [
      "Estimating biases using als...\n",
      "RMSE: 0.6039\n",
      "Estimating biases using als...\n",
      "Estimating biases using als...\n",
      "Estimating biases using als...\n",
      "Estimating biases using als...\n",
      "Estimating biases using als...\n",
      "Evaluating RMSE, MAE of algorithm BaselineOnly on 5 split(s).\n",
      "\n",
      "                  Fold 1  Fold 2  Fold 3  Fold 4  Fold 5  Mean    Std     \n",
      "MAE (testset)     0.5010  0.4961  0.4966  0.4938  0.4935  0.4962  0.0027  \n",
      "RMSE (testset)    0.6359  0.6349  0.6318  0.6273  0.6271  0.6314  0.0037  \n",
      "Fit time          0.04    0.05    0.05    0.05    0.06    0.05    0.00    \n",
      "Test time         0.05    0.05    0.06    0.05    0.13    0.07    0.03    \n",
      "0.6039182292485047 0.6314052132529651\n"
     ]
    }
   ],
   "source": [
    "algo = surprise.BaselineOnly()\n",
    "\n",
    "# Fit with entire data set\n",
    "algo.fit(trainset)\n",
    "predictions_train = algo.test(trainset.build_testset())\n",
    "rmse_train = surprise.accuracy.rmse(predictions_train)\n",
    "\n",
    "# Fit for each of k folds\n",
    "cv = cross_validate(algo, data, measures=['RMSE', 'MAE'], cv=5, verbose=True)\n",
    "rmse_cv = cv['test_rmse'].mean()\n",
    "\n",
    "print rmse_train, rmse_cv"
   ]
  },
  {
   "cell_type": "code",
   "execution_count": 29,
   "metadata": {},
   "outputs": [
    {
     "name": "stdout",
     "output_type": "stream",
     "text": [
      "RMSE: 0.5094\n",
      "Evaluating RMSE, MAE of algorithm SVD on 5 split(s).\n",
      "\n",
      "                  Fold 1  Fold 2  Fold 3  Fold 4  Fold 5  Mean    Std     \n",
      "MAE (testset)     0.4873  0.5024  0.4919  0.4952  0.4900  0.4934  0.0052  \n",
      "RMSE (testset)    0.6237  0.6449  0.6263  0.6329  0.6303  0.6316  0.0074  \n",
      "Fit time          1.49    1.40    1.40    1.38    1.36    1.41    0.05    \n",
      "Test time         0.06    0.12    0.05    0.05    0.05    0.07    0.03    \n",
      "0.5093718060571587 0.6316296940211322\n"
     ]
    }
   ],
   "source": [
    "algo = surprise.SVD()\n",
    "\n",
    "# Fit with entire data set\n",
    "algo.fit(trainset)\n",
    "predictions_train = algo.test(trainset.build_testset())\n",
    "rmse_train = surprise.accuracy.rmse(predictions_train)\n",
    "\n",
    "# Fit for each of k folds\n",
    "cv = cross_validate(algo, data, measures=['RMSE', 'MAE'], cv=5, verbose=True)\n",
    "rmse_cv = cv['test_rmse'].mean()\n",
    "\n",
    "print rmse_train, rmse_cv"
   ]
  },
  {
   "cell_type": "markdown",
   "metadata": {},
   "source": [
    "## Tune parameters for user-based KNN"
   ]
  },
  {
   "cell_type": "code",
   "execution_count": 30,
   "metadata": {
    "scrolled": true
   },
   "outputs": [
    {
     "name": "stdout",
     "output_type": "stream",
     "text": [
      "Estimating biases using als...\n",
      "Computing the msd similarity matrix...\n",
      "Done computing similarity matrix.\n",
      "RMSE: 0.1669\n",
      "Estimating biases using als...\n",
      "Computing the msd similarity matrix...\n",
      "Done computing similarity matrix.\n",
      "Estimating biases using als...\n",
      "Computing the msd similarity matrix...\n",
      "Done computing similarity matrix.\n",
      "Estimating biases using als...\n",
      "Computing the msd similarity matrix...\n",
      "Done computing similarity matrix.\n",
      "Estimating biases using als...\n",
      "Computing the msd similarity matrix...\n",
      "Done computing similarity matrix.\n",
      "Estimating biases using als...\n",
      "Computing the msd similarity matrix...\n",
      "Done computing similarity matrix.\n",
      "Evaluating RMSE, MAE of algorithm KNNBaseline on 5 split(s).\n",
      "\n",
      "                  Fold 1  Fold 2  Fold 3  Fold 4  Fold 5  Mean    Std     \n",
      "MAE (testset)     0.6281  0.6293  0.6212  0.6237  0.6132  0.6231  0.0057  \n",
      "RMSE (testset)    0.8484  0.8340  0.8263  0.8368  0.8242  0.8339  0.0086  \n",
      "Fit time          0.32    0.29    0.31    0.28    0.30    0.30    0.02    \n",
      "Test time         1.11    1.10    1.09    1.08    1.09    1.09    0.01    \n",
      "[1, 0.16693670470513688, 0.8339262655889925]\n",
      "Estimating biases using als...\n",
      "Computing the msd similarity matrix...\n",
      "Done computing similarity matrix.\n",
      "RMSE: 0.1863\n",
      "Estimating biases using als...\n",
      "Computing the msd similarity matrix...\n",
      "Done computing similarity matrix.\n",
      "Estimating biases using als...\n",
      "Computing the msd similarity matrix...\n",
      "Done computing similarity matrix.\n",
      "Estimating biases using als...\n",
      "Computing the msd similarity matrix...\n",
      "Done computing similarity matrix.\n",
      "Estimating biases using als...\n",
      "Computing the msd similarity matrix...\n",
      "Done computing similarity matrix.\n",
      "Estimating biases using als...\n",
      "Computing the msd similarity matrix...\n",
      "Done computing similarity matrix.\n",
      "Evaluating RMSE, MAE of algorithm KNNBaseline on 5 split(s).\n",
      "\n",
      "                  Fold 1  Fold 2  Fold 3  Fold 4  Fold 5  Mean    Std     \n",
      "MAE (testset)     0.5556  0.5682  0.5544  0.5618  0.5624  0.5605  0.0050  \n",
      "RMSE (testset)    0.7242  0.7418  0.7177  0.7298  0.7308  0.7289  0.0080  \n",
      "Fit time          0.28    0.30    0.32    0.30    0.31    0.30    0.01    \n",
      "Test time         1.38    1.36    1.32    1.35    1.36    1.35    0.02    \n",
      "[2, 0.18630188693493852, 0.7288908367363449]\n",
      "Estimating biases using als...\n",
      "Computing the msd similarity matrix...\n",
      "Done computing similarity matrix.\n",
      "RMSE: 0.2523\n",
      "Estimating biases using als...\n",
      "Computing the msd similarity matrix...\n",
      "Done computing similarity matrix.\n",
      "Estimating biases using als...\n",
      "Computing the msd similarity matrix...\n",
      "Done computing similarity matrix.\n",
      "Estimating biases using als...\n",
      "Computing the msd similarity matrix...\n",
      "Done computing similarity matrix.\n",
      "Estimating biases using als...\n",
      "Computing the msd similarity matrix...\n",
      "Done computing similarity matrix.\n",
      "Estimating biases using als...\n",
      "Computing the msd similarity matrix...\n",
      "Done computing similarity matrix.\n",
      "Evaluating RMSE, MAE of algorithm KNNBaseline on 5 split(s).\n",
      "\n",
      "                  Fold 1  Fold 2  Fold 3  Fold 4  Fold 5  Mean    Std     \n",
      "MAE (testset)     0.5219  0.5144  0.5064  0.5116  0.5164  0.5141  0.0051  \n",
      "RMSE (testset)    0.6753  0.6669  0.6480  0.6560  0.6633  0.6619  0.0093  \n",
      "Fit time          0.29    0.30    0.30    0.30    0.33    0.30    0.01    \n",
      "Test time         1.41    1.49    1.42    1.37    1.40    1.42    0.04    \n",
      "[5, 0.25229164668075266, 0.6619290725012608]\n",
      "Estimating biases using als...\n",
      "Computing the msd similarity matrix...\n",
      "Done computing similarity matrix.\n",
      "RMSE: 0.3046\n",
      "Estimating biases using als...\n",
      "Computing the msd similarity matrix...\n",
      "Done computing similarity matrix.\n",
      "Estimating biases using als...\n",
      "Computing the msd similarity matrix...\n",
      "Done computing similarity matrix.\n",
      "Estimating biases using als...\n",
      "Computing the msd similarity matrix...\n",
      "Done computing similarity matrix.\n",
      "Estimating biases using als...\n",
      "Computing the msd similarity matrix...\n",
      "Done computing similarity matrix.\n",
      "Estimating biases using als...\n",
      "Computing the msd similarity matrix...\n",
      "Done computing similarity matrix.\n",
      "Evaluating RMSE, MAE of algorithm KNNBaseline on 5 split(s).\n",
      "\n",
      "                  Fold 1  Fold 2  Fold 3  Fold 4  Fold 5  Mean    Std     \n",
      "MAE (testset)     0.4848  0.5040  0.4940  0.5023  0.4898  0.4950  0.0073  \n",
      "RMSE (testset)    0.6232  0.6496  0.6355  0.6494  0.6325  0.6380  0.0102  \n",
      "Fit time          0.28    0.31    0.31    0.31    0.30    0.30    0.01    \n",
      "Test time         1.62    1.46    1.56    1.54    1.54    1.54    0.05    \n",
      "[10, 0.3045680060684229, 0.638041010547234]\n",
      "Estimating biases using als...\n",
      "Computing the msd similarity matrix...\n",
      "Done computing similarity matrix.\n",
      "RMSE: 0.3551\n",
      "Estimating biases using als...\n",
      "Computing the msd similarity matrix...\n",
      "Done computing similarity matrix.\n",
      "Estimating biases using als...\n",
      "Computing the msd similarity matrix...\n",
      "Done computing similarity matrix.\n",
      "Estimating biases using als...\n",
      "Computing the msd similarity matrix...\n",
      "Done computing similarity matrix.\n",
      "Estimating biases using als...\n",
      "Computing the msd similarity matrix...\n",
      "Done computing similarity matrix.\n",
      "Estimating biases using als...\n",
      "Computing the msd similarity matrix...\n",
      "Done computing similarity matrix.\n",
      "Evaluating RMSE, MAE of algorithm KNNBaseline on 5 split(s).\n",
      "\n",
      "                  Fold 1  Fold 2  Fold 3  Fold 4  Fold 5  Mean    Std     \n",
      "MAE (testset)     0.4833  0.4878  0.4868  0.4987  0.4834  0.4880  0.0056  \n",
      "RMSE (testset)    0.6258  0.6299  0.6264  0.6385  0.6166  0.6274  0.0070  \n",
      "Fit time          0.31    0.30    0.32    0.31    0.32    0.31    0.01    \n",
      "Test time         1.67    1.65    1.71    1.72    1.68    1.69    0.03    \n",
      "[20, 0.3551386792253753, 0.6274269793178653]\n",
      "Estimating biases using als...\n",
      "Computing the msd similarity matrix...\n",
      "Done computing similarity matrix.\n",
      "RMSE: 0.4222\n",
      "Estimating biases using als...\n",
      "Computing the msd similarity matrix...\n",
      "Done computing similarity matrix.\n",
      "Estimating biases using als...\n",
      "Computing the msd similarity matrix...\n",
      "Done computing similarity matrix.\n",
      "Estimating biases using als...\n",
      "Computing the msd similarity matrix...\n",
      "Done computing similarity matrix.\n",
      "Estimating biases using als...\n",
      "Computing the msd similarity matrix...\n",
      "Done computing similarity matrix.\n",
      "Estimating biases using als...\n",
      "Computing the msd similarity matrix...\n",
      "Done computing similarity matrix.\n",
      "Evaluating RMSE, MAE of algorithm KNNBaseline on 5 split(s).\n",
      "\n",
      "                  Fold 1  Fold 2  Fold 3  Fold 4  Fold 5  Mean    Std     \n",
      "MAE (testset)     0.4752  0.4827  0.4890  0.4861  0.4740  0.4814  0.0059  \n",
      "RMSE (testset)    0.6111  0.6215  0.6336  0.6276  0.6077  0.6203  0.0098  \n",
      "Fit time          0.29    0.31    0.30    0.32    0.31    0.30    0.01    \n",
      "Test time         2.16    2.17    2.28    2.25    2.19    2.21    0.05    \n",
      "[50, 0.4222205363879346, 0.6203033419641958]\n",
      "Estimating biases using als...\n",
      "Computing the msd similarity matrix...\n",
      "Done computing similarity matrix.\n",
      "RMSE: 0.4673\n",
      "Estimating biases using als...\n",
      "Computing the msd similarity matrix...\n",
      "Done computing similarity matrix.\n",
      "Estimating biases using als...\n",
      "Computing the msd similarity matrix...\n",
      "Done computing similarity matrix.\n",
      "Estimating biases using als...\n",
      "Computing the msd similarity matrix...\n",
      "Done computing similarity matrix.\n",
      "Estimating biases using als...\n",
      "Computing the msd similarity matrix...\n",
      "Done computing similarity matrix.\n",
      "Estimating biases using als...\n",
      "Computing the msd similarity matrix...\n",
      "Done computing similarity matrix.\n",
      "Evaluating RMSE, MAE of algorithm KNNBaseline on 5 split(s).\n",
      "\n",
      "                  Fold 1  Fold 2  Fold 3  Fold 4  Fold 5  Mean    Std     \n",
      "MAE (testset)     0.4717  0.4791  0.4866  0.4882  0.4803  0.4812  0.0059  \n",
      "RMSE (testset)    0.6069  0.6243  0.6254  0.6264  0.6165  0.6199  0.0074  \n",
      "Fit time          0.29    0.28    0.33    0.30    0.31    0.30    0.01    \n",
      "Test time         2.74    2.84    2.82    2.74    2.81    2.79    0.04    \n",
      "[100, 0.4673255264498443, 0.6199042266510171]\n",
      "Estimating biases using als...\n",
      "Computing the msd similarity matrix...\n",
      "Done computing similarity matrix.\n",
      "RMSE: 0.5076\n",
      "Estimating biases using als...\n",
      "Computing the msd similarity matrix...\n",
      "Done computing similarity matrix.\n",
      "Estimating biases using als...\n",
      "Computing the msd similarity matrix...\n",
      "Done computing similarity matrix.\n",
      "Estimating biases using als...\n",
      "Computing the msd similarity matrix...\n"
     ]
    },
    {
     "name": "stdout",
     "output_type": "stream",
     "text": [
      "Done computing similarity matrix.\n",
      "Estimating biases using als...\n",
      "Computing the msd similarity matrix...\n",
      "Done computing similarity matrix.\n",
      "Estimating biases using als...\n",
      "Computing the msd similarity matrix...\n",
      "Done computing similarity matrix.\n",
      "Evaluating RMSE, MAE of algorithm KNNBaseline on 5 split(s).\n",
      "\n",
      "                  Fold 1  Fold 2  Fold 3  Fold 4  Fold 5  Mean    Std     \n",
      "MAE (testset)     0.4815  0.4845  0.4743  0.4836  0.4834  0.4815  0.0037  \n",
      "RMSE (testset)    0.6231  0.6213  0.6082  0.6236  0.6215  0.6196  0.0058  \n",
      "Fit time          0.31    0.30    0.31    0.31    0.32    0.31    0.00    \n",
      "Test time         3.44    3.46    3.36    3.42    3.43    3.42    0.03    \n",
      "[200, 0.5075791232547051, 0.6195550221929069]\n",
      "Estimating biases using als...\n",
      "Computing the msd similarity matrix...\n",
      "Done computing similarity matrix.\n",
      "RMSE: 0.5398\n",
      "Estimating biases using als...\n",
      "Computing the msd similarity matrix...\n",
      "Done computing similarity matrix.\n",
      "Estimating biases using als...\n",
      "Computing the msd similarity matrix...\n",
      "Done computing similarity matrix.\n",
      "Estimating biases using als...\n",
      "Computing the msd similarity matrix...\n",
      "Done computing similarity matrix.\n",
      "Estimating biases using als...\n",
      "Computing the msd similarity matrix...\n",
      "Done computing similarity matrix.\n",
      "Estimating biases using als...\n",
      "Computing the msd similarity matrix...\n",
      "Done computing similarity matrix.\n",
      "Evaluating RMSE, MAE of algorithm KNNBaseline on 5 split(s).\n",
      "\n",
      "                  Fold 1  Fold 2  Fold 3  Fold 4  Fold 5  Mean    Std     \n",
      "MAE (testset)     0.4833  0.4764  0.4849  0.4824  0.4820  0.4818  0.0029  \n",
      "RMSE (testset)    0.6219  0.6149  0.6225  0.6207  0.6177  0.6196  0.0028  \n",
      "Fit time          0.30    0.29    0.28    0.30    0.29    0.29    0.01    \n",
      "Test time         3.70    3.66    3.67    3.53    3.66    3.64    0.06    \n",
      "[500, 0.5397790000928258, 0.6195506564592336]\n",
      "Estimating biases using als...\n",
      "Computing the msd similarity matrix...\n",
      "Done computing similarity matrix.\n",
      "RMSE: 0.5429\n",
      "Estimating biases using als...\n",
      "Computing the msd similarity matrix...\n",
      "Done computing similarity matrix.\n",
      "Estimating biases using als...\n",
      "Computing the msd similarity matrix...\n",
      "Done computing similarity matrix.\n",
      "Estimating biases using als...\n",
      "Computing the msd similarity matrix...\n",
      "Done computing similarity matrix.\n",
      "Estimating biases using als...\n",
      "Computing the msd similarity matrix...\n",
      "Done computing similarity matrix.\n",
      "Estimating biases using als...\n",
      "Computing the msd similarity matrix...\n",
      "Done computing similarity matrix.\n",
      "Evaluating RMSE, MAE of algorithm KNNBaseline on 5 split(s).\n",
      "\n",
      "                  Fold 1  Fold 2  Fold 3  Fold 4  Fold 5  Mean    Std     \n",
      "MAE (testset)     0.4912  0.4804  0.4820  0.4813  0.4771  0.4824  0.0047  \n",
      "RMSE (testset)    0.6295  0.6208  0.6196  0.6191  0.6121  0.6202  0.0055  \n",
      "Fit time          0.31    0.32    0.31    0.31    0.31    0.31    0.00    \n",
      "Test time         3.55    3.61    3.58    3.54    3.55    3.56    0.02    \n",
      "[1000, 0.5428635337347096, 0.6202252091601392]\n"
     ]
    }
   ],
   "source": [
    "ks = [1, 2, 5, 10, 20, 50, 100, 200, 500, 1000]\n",
    "\n",
    "errors = []\n",
    "for k in ks:\n",
    "    sim_options = {'name': 'msd', 'user_based': True}\n",
    "    #sim_options = {'name': 'pearson_baseline', 'user_based': True}\n",
    "    #sim_options = {'name': 'pearson', 'user_based': True}\n",
    "    #sim_options = {'name': 'cosine', 'user_based': True}\n",
    "    \n",
    "    #algo = surprise.KNNBasic(k=k, min_k=1, sim_options=sim_options)\n",
    "    algo = surprise.KNNBaseline(k=k, min_k=1, sim_options=sim_options)\n",
    "    \n",
    "    # Fit with entire data set\n",
    "    algo.fit(trainset)\n",
    "    predictions_train = algo.test(trainset.build_testset())\n",
    "    \n",
    "    # Compute RMSE\n",
    "    rmse_train = surprise.accuracy.rmse(predictions_train)\n",
    "    \n",
    "    # Fit for each of k folds\n",
    "    cv = cross_validate(algo, data, measures=['RMSE', 'MAE'], cv=5, verbose=True)\n",
    "    rmse_cv = cv['test_rmse'].mean()\n",
    "    \n",
    "    e = [k, rmse_train, rmse_cv]\n",
    "    print e\n",
    "    errors.append(e)\n",
    "\n",
    "errors = np.array(errors)"
   ]
  },
  {
   "cell_type": "code",
   "execution_count": 32,
   "metadata": {},
   "outputs": [
    {
     "name": "stdout",
     "output_type": "stream",
     "text": [
      "[500.           0.539779     0.61955066]\n",
      "{'name': 'msd', 'user_based': True}\n"
     ]
    }
   ],
   "source": [
    "imin = errors[:, 2].argmin()\n",
    "\n",
    "print errors[imin]\n",
    "print algo.sim_options"
   ]
  },
  {
   "cell_type": "code",
   "execution_count": 33,
   "metadata": {},
   "outputs": [
    {
     "data": {
      "text/plain": [
       "Text(0,0.5,'RMSE')"
      ]
     },
     "execution_count": 33,
     "metadata": {},
     "output_type": "execute_result"
    },
    {
     "data": {
      "image/png": "[encoded data removed]",
      "text/plain": [
       "<Figure size 432x288 with 1 Axes>"
      ]
     },
     "metadata": {
      "needs_background": "light"
     },
     "output_type": "display_data"
    }
   ],
   "source": [
    "fig, ax = plt.subplots()\n",
    "ax.plot(errors[:, 0], errors[:, 2], marker='o', label='Mean CV error')\n",
    "ax.plot(errors[:, 0], errors[:, 1], marker='o', label='Full training set error')\n",
    "ax.scatter(errors[imin, 0], errors[imin, 2], marker='x', c='k', s=100, zorder=5)\n",
    "ax.legend()\n",
    "ax.set_xscale('log')\n",
    "ax.set_xlabel('k')\n",
    "ax.set_ylabel('RMSE')"
   ]
  },
  {
   "cell_type": "markdown",
   "metadata": {},
   "source": [
    "# Fit the final model with the best hyperparameters"
   ]
  },
  {
   "cell_type": "code",
   "execution_count": 34,
   "metadata": {},
   "outputs": [
    {
     "name": "stdout",
     "output_type": "stream",
     "text": [
      "Estimating biases using als...\n",
      "Computing the msd similarity matrix...\n",
      "Done computing similarity matrix.\n",
      "RMSE: 0.5398\n",
      "0.5397790000928258\n"
     ]
    }
   ],
   "source": [
    "k = 500\n",
    "min_k = 1\n",
    "sim_options = {'name': 'msd', 'user_based': True}\n",
    "algo = surprise.KNNBaseline(k=k, min_k=1, sim_options=sim_options)\n",
    "    \n",
    "algo.fit(trainset)\n",
    "\n",
    "# convert the training set into a testset format for making predictions\n",
    "predictions_train = algo.test(trainset.build_testset())\n",
    "\n",
    "# Compute RMSE\n",
    "rmse_train = surprise.accuracy.rmse(predictions_train)\n",
    "print rmse_train"
   ]
  },
  {
   "cell_type": "markdown",
   "metadata": {},
   "source": [
    "## Save model"
   ]
  },
  {
   "cell_type": "code",
   "execution_count": 36,
   "metadata": {},
   "outputs": [],
   "source": [
    "# Dump algorithm.\n",
    "filename ='../data/model_knn_user_based'\n",
    "surprise.dump.dump(filename, algo=algo)"
   ]
  },
  {
   "cell_type": "code",
   "execution_count": 37,
   "metadata": {},
   "outputs": [
    {
     "name": "stdout",
     "output_type": "stream",
     "text": [
      "1.6388636861275163 1.6388636861275163\n"
     ]
    }
   ],
   "source": [
    "# Check that reloaded algorithm produces same output\n",
    "_, loaded_algo = surprise.dump.load(filename)\n",
    "\n",
    "uid = 0\n",
    "iid = 0\n",
    "print algo.predict(uid, iid).est, loaded_algo.predict(uid, iid).est"
   ]
  },
  {
   "cell_type": "markdown",
   "metadata": {},
   "source": [
    "# Tune parameters for item-based KNN"
   ]
  },
  {
   "cell_type": "code",
   "execution_count": 38,
   "metadata": {
    "scrolled": true
   },
   "outputs": [
    {
     "name": "stdout",
     "output_type": "stream",
     "text": [
      "Estimating biases using als...\n",
      "Computing the msd similarity matrix...\n",
      "Done computing similarity matrix.\n",
      "RMSE: 0.1201\n",
      "Estimating biases using als...\n",
      "Computing the msd similarity matrix...\n",
      "Done computing similarity matrix.\n",
      "Estimating biases using als...\n",
      "Computing the msd similarity matrix...\n",
      "Done computing similarity matrix.\n",
      "Estimating biases using als...\n",
      "Computing the msd similarity matrix...\n",
      "Done computing similarity matrix.\n",
      "Estimating biases using als...\n",
      "Computing the msd similarity matrix...\n",
      "Done computing similarity matrix.\n",
      "Estimating biases using als...\n",
      "Computing the msd similarity matrix...\n",
      "Done computing similarity matrix.\n",
      "Evaluating RMSE, MAE of algorithm KNNBaseline on 5 split(s).\n",
      "\n",
      "                  Fold 1  Fold 2  Fold 3  Fold 4  Fold 5  Mean    Std     \n",
      "MAE (testset)     0.6217  0.6056  0.6227  0.6211  0.6101  0.6162  0.0070  \n",
      "RMSE (testset)    0.8412  0.8220  0.8399  0.8312  0.8212  0.8311  0.0085  \n",
      "Fit time          0.07    0.07    0.07    0.07    0.07    0.07    0.00    \n",
      "Test time         0.43    0.33    0.43    0.34    0.34    0.37    0.05    \n",
      "[1, 0.12011174622909182, 0.8311009756244667]\n",
      "Estimating biases using als...\n",
      "Computing the msd similarity matrix...\n",
      "Done computing similarity matrix.\n",
      "RMSE: 0.2702\n",
      "Estimating biases using als...\n",
      "Computing the msd similarity matrix...\n",
      "Done computing similarity matrix.\n",
      "Estimating biases using als...\n",
      "Computing the msd similarity matrix...\n",
      "Done computing similarity matrix.\n",
      "Estimating biases using als...\n",
      "Computing the msd similarity matrix...\n",
      "Done computing similarity matrix.\n",
      "Estimating biases using als...\n",
      "Computing the msd similarity matrix...\n",
      "Done computing similarity matrix.\n",
      "Estimating biases using als...\n",
      "Computing the msd similarity matrix...\n",
      "Done computing similarity matrix.\n",
      "Evaluating RMSE, MAE of algorithm KNNBaseline on 5 split(s).\n",
      "\n",
      "                  Fold 1  Fold 2  Fold 3  Fold 4  Fold 5  Mean    Std     \n",
      "MAE (testset)     0.5656  0.5594  0.5557  0.5600  0.5496  0.5581  0.0053  \n",
      "RMSE (testset)    0.7413  0.7369  0.7360  0.7339  0.7236  0.7343  0.0059  \n",
      "Fit time          0.07    0.08    0.08    0.07    0.07    0.07    0.00    \n",
      "Test time         0.42    0.42    0.44    0.45    0.44    0.44    0.01    \n",
      "[2, 0.27022983911725196, 0.7343250212030344]\n",
      "Estimating biases using als...\n",
      "Computing the msd similarity matrix...\n",
      "Done computing similarity matrix.\n",
      "RMSE: 0.3862\n",
      "Estimating biases using als...\n",
      "Computing the msd similarity matrix...\n",
      "Done computing similarity matrix.\n",
      "Estimating biases using als...\n",
      "Computing the msd similarity matrix...\n",
      "Done computing similarity matrix.\n",
      "Estimating biases using als...\n",
      "Computing the msd similarity matrix...\n",
      "Done computing similarity matrix.\n",
      "Estimating biases using als...\n",
      "Computing the msd similarity matrix...\n",
      "Done computing similarity matrix.\n",
      "Estimating biases using als...\n",
      "Computing the msd similarity matrix...\n",
      "Done computing similarity matrix.\n",
      "Evaluating RMSE, MAE of algorithm KNNBaseline on 5 split(s).\n",
      "\n",
      "                  Fold 1  Fold 2  Fold 3  Fold 4  Fold 5  Mean    Std     \n",
      "MAE (testset)     0.5154  0.5031  0.5106  0.5137  0.5090  0.5104  0.0043  \n",
      "RMSE (testset)    0.6709  0.6547  0.6708  0.6647  0.6626  0.6647  0.0060  \n",
      "Fit time          0.09    0.08    0.07    0.07    0.08    0.08    0.01    \n",
      "Test time         0.49    0.50    0.52    0.57    0.53    0.52    0.03    \n",
      "[5, 0.386157505307812, 0.6647404233640254]\n",
      "Estimating biases using als...\n",
      "Computing the msd similarity matrix...\n",
      "Done computing similarity matrix.\n",
      "RMSE: 0.4410\n",
      "Estimating biases using als...\n",
      "Computing the msd similarity matrix...\n",
      "Done computing similarity matrix.\n",
      "Estimating biases using als...\n",
      "Computing the msd similarity matrix...\n",
      "Done computing similarity matrix.\n",
      "Estimating biases using als...\n",
      "Computing the msd similarity matrix...\n",
      "Done computing similarity matrix.\n",
      "Estimating biases using als...\n",
      "Computing the msd similarity matrix...\n",
      "Done computing similarity matrix.\n",
      "Estimating biases using als...\n",
      "Computing the msd similarity matrix...\n",
      "Done computing similarity matrix.\n",
      "Evaluating RMSE, MAE of algorithm KNNBaseline on 5 split(s).\n",
      "\n",
      "                  Fold 1  Fold 2  Fold 3  Fold 4  Fold 5  Mean    Std     \n",
      "MAE (testset)     0.5017  0.4920  0.4846  0.5004  0.4943  0.4946  0.0062  \n",
      "RMSE (testset)    0.6503  0.6405  0.6295  0.6512  0.6425  0.6428  0.0079  \n",
      "Fit time          0.07    0.08    0.08    0.08    0.08    0.08    0.01    \n",
      "Test time         0.59    0.61    0.66    0.61    0.59    0.61    0.03    \n",
      "[10, 0.4409778447899028, 0.6427896598673504]\n",
      "Estimating biases using als...\n",
      "Computing the msd similarity matrix...\n",
      "Done computing similarity matrix.\n",
      "RMSE: 0.4794\n",
      "Estimating biases using als...\n",
      "Computing the msd similarity matrix...\n",
      "Done computing similarity matrix.\n",
      "Estimating biases using als...\n",
      "Computing the msd similarity matrix...\n",
      "Done computing similarity matrix.\n",
      "Estimating biases using als...\n",
      "Computing the msd similarity matrix...\n",
      "Done computing similarity matrix.\n",
      "Estimating biases using als...\n",
      "Computing the msd similarity matrix...\n",
      "Done computing similarity matrix.\n",
      "Estimating biases using als...\n",
      "Computing the msd similarity matrix...\n",
      "Done computing similarity matrix.\n",
      "Evaluating RMSE, MAE of algorithm KNNBaseline on 5 split(s).\n",
      "\n",
      "                  Fold 1  Fold 2  Fold 3  Fold 4  Fold 5  Mean    Std     \n",
      "MAE (testset)     0.4877  0.4903  0.4894  0.4848  0.4916  0.4887  0.0024  \n",
      "RMSE (testset)    0.6309  0.6327  0.6317  0.6296  0.6364  0.6323  0.0023  \n",
      "Fit time          0.07    0.08    0.07    0.07    0.08    0.07    0.00    \n",
      "Test time         0.64    0.71    0.73    0.67    0.68    0.69    0.03    \n",
      "[20, 0.47944605824564207, 0.6322563373558887]\n",
      "Estimating biases using als...\n",
      "Computing the msd similarity matrix...\n",
      "Done computing similarity matrix.\n",
      "RMSE: 0.5129\n",
      "Estimating biases using als...\n",
      "Computing the msd similarity matrix...\n",
      "Done computing similarity matrix.\n",
      "Estimating biases using als...\n",
      "Computing the msd similarity matrix...\n",
      "Done computing similarity matrix.\n",
      "Estimating biases using als...\n",
      "Computing the msd similarity matrix...\n",
      "Done computing similarity matrix.\n",
      "Estimating biases using als...\n",
      "Computing the msd similarity matrix...\n",
      "Done computing similarity matrix.\n",
      "Estimating biases using als...\n",
      "Computing the msd similarity matrix...\n",
      "Done computing similarity matrix.\n",
      "Evaluating RMSE, MAE of algorithm KNNBaseline on 5 split(s).\n",
      "\n",
      "                  Fold 1  Fold 2  Fold 3  Fold 4  Fold 5  Mean    Std     \n",
      "MAE (testset)     0.4821  0.4930  0.4908  0.4948  0.4901  0.4902  0.0044  \n",
      "RMSE (testset)    0.6221  0.6397  0.6293  0.6366  0.6293  0.6314  0.0062  \n",
      "Fit time          0.08    0.09    0.07    0.07    0.08    0.08    0.01    \n",
      "Test time         0.93    0.86    0.87    0.89    0.94    0.90    0.03    \n",
      "[50, 0.5129356589849575, 0.631382565343832]\n",
      "Estimating biases using als...\n",
      "Computing the msd similarity matrix...\n",
      "Done computing similarity matrix.\n",
      "RMSE: 0.5267\n",
      "Estimating biases using als...\n",
      "Computing the msd similarity matrix...\n",
      "Done computing similarity matrix.\n",
      "Estimating biases using als...\n",
      "Computing the msd similarity matrix...\n",
      "Done computing similarity matrix.\n",
      "Estimating biases using als...\n",
      "Computing the msd similarity matrix...\n",
      "Done computing similarity matrix.\n",
      "Estimating biases using als...\n",
      "Computing the msd similarity matrix...\n",
      "Done computing similarity matrix.\n",
      "Estimating biases using als...\n",
      "Computing the msd similarity matrix...\n",
      "Done computing similarity matrix.\n",
      "Evaluating RMSE, MAE of algorithm KNNBaseline on 5 split(s).\n",
      "\n",
      "                  Fold 1  Fold 2  Fold 3  Fold 4  Fold 5  Mean    Std     \n",
      "MAE (testset)     0.4951  0.5008  0.4933  0.4927  0.4871  0.4938  0.0044  \n",
      "RMSE (testset)    0.6336  0.6431  0.6339  0.6297  0.6311  0.6343  0.0047  \n",
      "Fit time          0.07    0.08    0.08    0.08    0.07    0.08    0.00    \n",
      "Test time         1.05    1.03    0.96    0.97    0.98    1.00    0.03    \n",
      "[100, 0.5266825581684826, 0.6342864497695571]\n",
      "Estimating biases using als...\n",
      "Computing the msd similarity matrix...\n",
      "Done computing similarity matrix.\n",
      "RMSE: 0.5332\n",
      "Estimating biases using als...\n",
      "Computing the msd similarity matrix...\n",
      "Done computing similarity matrix.\n",
      "Estimating biases using als...\n",
      "Computing the msd similarity matrix...\n",
      "Done computing similarity matrix.\n",
      "Estimating biases using als...\n",
      "Computing the msd similarity matrix...\n",
      "Done computing similarity matrix.\n"
     ]
    },
    {
     "name": "stdout",
     "output_type": "stream",
     "text": [
      "Estimating biases using als...\n",
      "Computing the msd similarity matrix...\n",
      "Done computing similarity matrix.\n",
      "Estimating biases using als...\n",
      "Computing the msd similarity matrix...\n",
      "Done computing similarity matrix.\n",
      "Evaluating RMSE, MAE of algorithm KNNBaseline on 5 split(s).\n",
      "\n",
      "                  Fold 1  Fold 2  Fold 3  Fold 4  Fold 5  Mean    Std     \n",
      "MAE (testset)     0.4920  0.4979  0.4975  0.4891  0.4936  0.4940  0.0033  \n",
      "RMSE (testset)    0.6319  0.6418  0.6360  0.6331  0.6308  0.6347  0.0039  \n",
      "Fit time          0.07    0.09    0.08    0.07    0.08    0.08    0.01    \n",
      "Test time         1.04    1.07    0.99    1.07    1.07    1.05    0.03    \n",
      "[200, 0.5331853758793681, 0.6347461284907785]\n",
      "Estimating biases using als...\n",
      "Computing the msd similarity matrix...\n",
      "Done computing similarity matrix.\n",
      "RMSE: 0.5343\n",
      "Estimating biases using als...\n",
      "Computing the msd similarity matrix...\n",
      "Done computing similarity matrix.\n",
      "Estimating biases using als...\n",
      "Computing the msd similarity matrix...\n",
      "Done computing similarity matrix.\n",
      "Estimating biases using als...\n",
      "Computing the msd similarity matrix...\n",
      "Done computing similarity matrix.\n",
      "Estimating biases using als...\n",
      "Computing the msd similarity matrix...\n",
      "Done computing similarity matrix.\n",
      "Estimating biases using als...\n",
      "Computing the msd similarity matrix...\n",
      "Done computing similarity matrix.\n",
      "Evaluating RMSE, MAE of algorithm KNNBaseline on 5 split(s).\n",
      "\n",
      "                  Fold 1  Fold 2  Fold 3  Fold 4  Fold 5  Mean    Std     \n",
      "MAE (testset)     0.4953  0.4961  0.4983  0.4947  0.4880  0.4945  0.0035  \n",
      "RMSE (testset)    0.6386  0.6399  0.6382  0.6370  0.6249  0.6357  0.0055  \n",
      "Fit time          0.07    0.07    0.07    0.07    0.08    0.07    0.00    \n",
      "Test time         1.02    0.97    0.94    1.01    0.98    0.98    0.03    \n",
      "[500, 0.53425672773022, 0.6357424519773316]\n",
      "Estimating biases using als...\n",
      "Computing the msd similarity matrix...\n",
      "Done computing similarity matrix.\n",
      "RMSE: 0.5343\n",
      "Estimating biases using als...\n",
      "Computing the msd similarity matrix...\n",
      "Done computing similarity matrix.\n",
      "Estimating biases using als...\n",
      "Computing the msd similarity matrix...\n",
      "Done computing similarity matrix.\n",
      "Estimating biases using als...\n",
      "Computing the msd similarity matrix...\n",
      "Done computing similarity matrix.\n",
      "Estimating biases using als...\n",
      "Computing the msd similarity matrix...\n",
      "Done computing similarity matrix.\n",
      "Estimating biases using als...\n",
      "Computing the msd similarity matrix...\n",
      "Done computing similarity matrix.\n",
      "Evaluating RMSE, MAE of algorithm KNNBaseline on 5 split(s).\n",
      "\n",
      "                  Fold 1  Fold 2  Fold 3  Fold 4  Fold 5  Mean    Std     \n",
      "MAE (testset)     0.4877  0.4996  0.4887  0.4903  0.5019  0.4937  0.0059  \n",
      "RMSE (testset)    0.6282  0.6414  0.6260  0.6279  0.6448  0.6337  0.0078  \n",
      "Fit time          0.07    0.08    0.07    0.07    0.08    0.07    0.01    \n",
      "Test time         0.99    1.01    0.98    0.99    0.95    0.98    0.02    \n",
      "[1000, 0.53425672773022, 0.6336594761112381]\n"
     ]
    }
   ],
   "source": [
    "ks = [1, 2, 5, 10, 20, 50, 100, 200, 500, 1000]\n",
    "\n",
    "errors = []\n",
    "for k in ks:\n",
    "    # \"'user_based': False\" means item_based\n",
    "    sim_options = {'name': 'msd', 'user_based': False}\n",
    "    #sim_options = {'name': 'pearson_baseline', 'user_based': False}\n",
    "    #sim_options = {'name': 'pearson', 'user_based': False}\n",
    "    #sim_options = {'name': 'cosine', 'user_based': False}\n",
    "    \n",
    "    #algo = surprise.KNNBasic(k=k, min_k=1, sim_options=sim_options)\n",
    "    algo = surprise.KNNBaseline(k=k, min_k=1, sim_options=sim_options)\n",
    "    \n",
    "    # Fit with entire data set\n",
    "    algo.fit(trainset)\n",
    "    predictions_train = algo.test(trainset.build_testset())\n",
    "    \n",
    "    # Compute RMSE\n",
    "    rmse_train = surprise.accuracy.rmse(predictions_train)\n",
    "    \n",
    "    # Fit for each of k folds\n",
    "    cv = cross_validate(algo, data, measures=['RMSE', 'MAE'], cv=5, verbose=True)\n",
    "    rmse_cv = cv['test_rmse'].mean()\n",
    "    \n",
    "    e = [k, rmse_train, rmse_cv]\n",
    "    print e\n",
    "    errors.append(e)\n",
    "\n",
    "errors = np.array(errors)"
   ]
  },
  {
   "cell_type": "code",
   "execution_count": 39,
   "metadata": {},
   "outputs": [
    {
     "name": "stdout",
     "output_type": "stream",
     "text": [
      "[50.          0.51293566  0.63138257]\n",
      "{'name': 'msd', 'user_based': False}\n"
     ]
    }
   ],
   "source": [
    "imin = errors[:, 2].argmin()\n",
    "\n",
    "print errors[imin]\n",
    "print algo.sim_options"
   ]
  },
  {
   "cell_type": "code",
   "execution_count": 40,
   "metadata": {},
   "outputs": [
    {
     "data": {
      "text/plain": [
       "Text(0,0.5,'RMSE')"
      ]
     },
     "execution_count": 40,
     "metadata": {},
     "output_type": "execute_result"
    },
    {
     "data": {
      "image/png": "[encoded data removed]",
      "text/plain": [
       "<Figure size 432x288 with 1 Axes>"
      ]
     },
     "metadata": {
      "needs_background": "light"
     },
     "output_type": "display_data"
    }
   ],
   "source": [
    "fig, ax = plt.subplots()\n",
    "ax.plot(errors[:, 0], errors[:, 2], marker='o', label='Mean CV error')\n",
    "ax.plot(errors[:, 0], errors[:, 1], marker='o', label='Full training set error')\n",
    "ax.scatter(errors[imin, 0], errors[imin, 2], marker='x', c='k', s=100, zorder=5)\n",
    "ax.legend()\n",
    "ax.set_xscale('log')\n",
    "ax.set_xlabel('k')\n",
    "ax.set_ylabel('RMSE')"
   ]
  },
  {
   "cell_type": "markdown",
   "metadata": {},
   "source": [
    "## Train final model"
   ]
  },
  {
   "cell_type": "code",
   "execution_count": 41,
   "metadata": {},
   "outputs": [
    {
     "name": "stdout",
     "output_type": "stream",
     "text": [
      "Estimating biases using als...\n",
      "Computing the msd similarity matrix...\n",
      "Done computing similarity matrix.\n",
      "RMSE: 0.5129\n",
      "0.5129356589849575\n"
     ]
    }
   ],
   "source": [
    "k = 50\n",
    "min_k = 1\n",
    "sim_options = {'name': 'msd', 'user_based': False}\n",
    "algo = surprise.KNNBaseline(k=k, min_k=1, sim_options=sim_options)\n",
    "    \n",
    "algo.fit(trainset)\n",
    "\n",
    "# convert the training set into a testset format for making predictions\n",
    "predictions_train = algo.test(trainset.build_testset())\n",
    "\n",
    "# Compute RMSE\n",
    "rmse_train = surprise.accuracy.rmse(predictions_train)\n",
    "print rmse_train"
   ]
  },
  {
   "cell_type": "markdown",
   "metadata": {},
   "source": [
    "## Save model"
   ]
  },
  {
   "cell_type": "code",
   "execution_count": 42,
   "metadata": {},
   "outputs": [],
   "source": [
    "# Dump algorithm.\n",
    "filename ='../data/model_knn_item_based'\n",
    "surprise.dump.dump(filename, algo=algo)"
   ]
  },
  {
   "cell_type": "code",
   "execution_count": 43,
   "metadata": {},
   "outputs": [
    {
     "name": "stdout",
     "output_type": "stream",
     "text": [
      "2.028957400871496 2.028957400871496\n"
     ]
    }
   ],
   "source": [
    "# Check that reloaded algorithm produces same output\n",
    "_, loaded_algo = surprise.dump.load(filename)\n",
    "\n",
    "uid = 0\n",
    "iid = 0\n",
    "print algo.predict(uid, iid).est, loaded_algo.predict(uid, iid).est"
   ]
  },
  {
   "cell_type": "code",
   "execution_count": null,
   "metadata": {},
   "outputs": [],
   "source": []
  }
 ],
 "metadata": {
  "kernelspec": {
   "display_name": "Python 2",
   "language": "python",
   "name": "python2"
  },
  "language_info": {
   "codemirror_mode": {
    "name": "ipython",
    "version": 2
   },
   "file_extension": ".py",
   "mimetype": "text/x-python",
   "name": "python",
   "nbconvert_exporter": "python",
   "pygments_lexer": "ipython2",
   "version": "2.7.14"
  }
 },
 "nbformat": 4,
 "nbformat_minor": 2
}
