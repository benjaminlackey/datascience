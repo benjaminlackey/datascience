{
 "cells": [
  {
   "cell_type": "code",
   "execution_count": 1,
   "metadata": {},
   "outputs": [
    {
     "name": "stdout",
     "output_type": "stream",
     "text": [
      "Populating the interactive namespace from numpy and matplotlib\n"
     ]
    }
   ],
   "source": [
    "%pylab inline\n",
    "\n",
    "# Plotting\n",
    "import matplotlib.pyplot as plt\n",
    "import seaborn as sns\n",
    "\n",
    "import numpy as np\n",
    "import sqlite3\n",
    "import pandas as pd\n",
    "\n",
    "import utilities as util"
   ]
  },
  {
   "cell_type": "markdown",
   "metadata": {},
   "source": [
    "# Load data"
   ]
  },
  {
   "cell_type": "code",
   "execution_count": 2,
   "metadata": {},
   "outputs": [],
   "source": [
    "filename = '../data/mountain_project_gunks.sqlite'\n",
    "conn = sqlite3.connect(filename)\n",
    "\n",
    "# Climber profiles\n",
    "df_users = pd.read_sql('SELECT * FROM users', conn)\n",
    "\n",
    "# Route data\n",
    "df_items = pd.read_sql(\"\"\"\n",
    "SELECT items.*, pro.pro_type\n",
    "FROM items JOIN pro \n",
    "ON items.pro_id = pro.id\n",
    "\"\"\", conn)\n",
    "\n",
    "# Ratings of each route\n",
    "df_ratings = pd.read_sql('SELECT * FROM ratings', conn)"
   ]
  },
  {
   "cell_type": "code",
   "execution_count": 3,
   "metadata": {},
   "outputs": [
    {
     "data": {
      "text/html": [
       "<style  type=\"text/css\" >\n",
       "</style><table id=\"T_d1653905_42ae_11e9_9f1d_c4b301d90893\" ><thead>    <tr>        <th class=\"blank level0\" ></th>        <th class=\"col_heading level0 col0\" >uid</th>        <th class=\"col_heading level0 col1\" >name</th>        <th class=\"col_heading level0 col2\" >user_url</th>        <th class=\"col_heading level0 col3\" >profile</th>    </tr></thead><tbody>\n",
       "                <tr>\n",
       "                        <th id=\"T_d1653905_42ae_11e9_9f1d_c4b301d90893level0_row0\" class=\"row_heading level0 row0\" >1276</th>\n",
       "                        <td id=\"T_d1653905_42ae_11e9_9f1d_c4b301d90893row0_col0\" class=\"data row0 col0\" >1276</td>\n",
       "                        <td id=\"T_d1653905_42ae_11e9_9f1d_c4b301d90893row0_col1\" class=\"data row0 col1\" >jdlittlewood</td>\n",
       "                        <td id=\"T_d1653905_42ae_11e9_9f1d_c4b301d90893row0_col2\" class=\"data row0 col2\" ><a href=\"https://www.mountainproject.com/user/108317918/jdlittlewood\" target=\"_blank\">https://www.mountainproject.com/user/108317918/jdlittlewood</a></td>\n",
       "                        <td id=\"T_d1653905_42ae_11e9_9f1d_c4b301d90893row0_col3\" class=\"data row0 col3\" >Male</td>\n",
       "            </tr>\n",
       "            <tr>\n",
       "                        <th id=\"T_d1653905_42ae_11e9_9f1d_c4b301d90893level0_row1\" class=\"row_heading level0 row1\" >119</th>\n",
       "                        <td id=\"T_d1653905_42ae_11e9_9f1d_c4b301d90893row1_col0\" class=\"data row1 col0\" >119</td>\n",
       "                        <td id=\"T_d1653905_42ae_11e9_9f1d_c4b301d90893row1_col1\" class=\"data row1 col1\" >Joey Caffrey</td>\n",
       "                        <td id=\"T_d1653905_42ae_11e9_9f1d_c4b301d90893row1_col2\" class=\"data row1 col2\" ><a href=\"https://www.mountainproject.com/user/200357691/joey-caffrey\" target=\"_blank\">https://www.mountainproject.com/user/200357691/joey-caffrey</a></td>\n",
       "                        <td id=\"T_d1653905_42ae_11e9_9f1d_c4b301d90893row1_col3\" class=\"data row1 col3\" >None</td>\n",
       "            </tr>\n",
       "            <tr>\n",
       "                        <th id=\"T_d1653905_42ae_11e9_9f1d_c4b301d90893level0_row2\" class=\"row_heading level0 row2\" >2163</th>\n",
       "                        <td id=\"T_d1653905_42ae_11e9_9f1d_c4b301d90893row2_col0\" class=\"data row2 col0\" >2163</td>\n",
       "                        <td id=\"T_d1653905_42ae_11e9_9f1d_c4b301d90893row2_col1\" class=\"data row2 col1\" >Chris O'Connor</td>\n",
       "                        <td id=\"T_d1653905_42ae_11e9_9f1d_c4b301d90893row2_col2\" class=\"data row2 col2\" ><a href=\"https://www.mountainproject.com/user/14004/chris-oconnor\" target=\"_blank\">https://www.mountainproject.com/user/14004/chris-oconnor</a></td>\n",
       "                        <td id=\"T_d1653905_42ae_11e9_9f1d_c4b301d90893row2_col3\" class=\"data row2 col3\" >boulder, co 32 years old  Male</td>\n",
       "            </tr>\n",
       "    </tbody></table>"
      ],
      "text/plain": [
       "<pandas.io.formats.style.Styler at 0x125ad4b50>"
      ]
     },
     "metadata": {},
     "output_type": "display_data"
    },
    {
     "data": {
      "text/html": [
       "<style  type=\"text/css\" >\n",
       "</style><table id=\"T_d167c8c0_42ae_11e9_b1b1_c4b301d90893\" ><thead>    <tr>        <th class=\"blank level0\" ></th>        <th class=\"col_heading level0 col0\" >iid</th>        <th class=\"col_heading level0 col1\" >route_name</th>        <th class=\"col_heading level0 col2\" >route_url</th>        <th class=\"col_heading level0 col3\" >difficulty</th>        <th class=\"col_heading level0 col4\" >pro_id</th>        <th class=\"col_heading level0 col5\" >length</th>        <th class=\"col_heading level0 col6\" >pitches</th>        <th class=\"col_heading level0 col7\" >nratings</th>        <th class=\"col_heading level0 col8\" >monthly_views</th>        <th class=\"col_heading level0 col9\" >total_views</th>        <th class=\"col_heading level0 col10\" >pro_type</th>    </tr></thead><tbody>\n",
       "                <tr>\n",
       "                        <th id=\"T_d167c8c0_42ae_11e9_b1b1_c4b301d90893level0_row0\" class=\"row_heading level0 row0\" >359</th>\n",
       "                        <td id=\"T_d167c8c0_42ae_11e9_b1b1_c4b301d90893row0_col0\" class=\"data row0 col0\" >359</td>\n",
       "                        <td id=\"T_d167c8c0_42ae_11e9_b1b1_c4b301d90893row0_col1\" class=\"data row0 col1\" >The Winter</td>\n",
       "                        <td id=\"T_d167c8c0_42ae_11e9_b1b1_c4b301d90893row0_col2\" class=\"data row0 col2\" ><a href=\"https://www.mountainproject.com/route/106238729/the-winter\" target=\"_blank\">https://www.mountainproject.com/route/106238729/the-winter</a></td>\n",
       "                        <td id=\"T_d167c8c0_42ae_11e9_b1b1_c4b301d90893row0_col3\" class=\"data row0 col3\" >5.10+</td>\n",
       "                        <td id=\"T_d167c8c0_42ae_11e9_b1b1_c4b301d90893row0_col4\" class=\"data row0 col4\" >1</td>\n",
       "                        <td id=\"T_d167c8c0_42ae_11e9_b1b1_c4b301d90893row0_col5\" class=\"data row0 col5\" >175</td>\n",
       "                        <td id=\"T_d167c8c0_42ae_11e9_b1b1_c4b301d90893row0_col6\" class=\"data row0 col6\" >2</td>\n",
       "                        <td id=\"T_d167c8c0_42ae_11e9_b1b1_c4b301d90893row0_col7\" class=\"data row0 col7\" >72</td>\n",
       "                        <td id=\"T_d167c8c0_42ae_11e9_b1b1_c4b301d90893row0_col8\" class=\"data row0 col8\" >41</td>\n",
       "                        <td id=\"T_d167c8c0_42ae_11e9_b1b1_c4b301d90893row0_col9\" class=\"data row0 col9\" >5225</td>\n",
       "                        <td id=\"T_d167c8c0_42ae_11e9_b1b1_c4b301d90893row0_col10\" class=\"data row0 col10\" >Trad</td>\n",
       "            </tr>\n",
       "            <tr>\n",
       "                        <th id=\"T_d167c8c0_42ae_11e9_b1b1_c4b301d90893level0_row1\" class=\"row_heading level0 row1\" >267</th>\n",
       "                        <td id=\"T_d167c8c0_42ae_11e9_b1b1_c4b301d90893row1_col0\" class=\"data row1 col0\" >267</td>\n",
       "                        <td id=\"T_d167c8c0_42ae_11e9_b1b1_c4b301d90893row1_col1\" class=\"data row1 col1\" >Silhouette</td>\n",
       "                        <td id=\"T_d167c8c0_42ae_11e9_b1b1_c4b301d90893row1_col2\" class=\"data row1 col2\" ><a href=\"https://www.mountainproject.com/route/106612308/silhouette\" target=\"_blank\">https://www.mountainproject.com/route/106612308/silhouette</a></td>\n",
       "                        <td id=\"T_d167c8c0_42ae_11e9_b1b1_c4b301d90893row1_col3\" class=\"data row1 col3\" >5.7+</td>\n",
       "                        <td id=\"T_d167c8c0_42ae_11e9_b1b1_c4b301d90893row1_col4\" class=\"data row1 col4\" >1</td>\n",
       "                        <td id=\"T_d167c8c0_42ae_11e9_b1b1_c4b301d90893row1_col5\" class=\"data row1 col5\" >0</td>\n",
       "                        <td id=\"T_d167c8c0_42ae_11e9_b1b1_c4b301d90893row1_col6\" class=\"data row1 col6\" >2</td>\n",
       "                        <td id=\"T_d167c8c0_42ae_11e9_b1b1_c4b301d90893row1_col7\" class=\"data row1 col7\" >40</td>\n",
       "                        <td id=\"T_d167c8c0_42ae_11e9_b1b1_c4b301d90893row1_col8\" class=\"data row1 col8\" >17</td>\n",
       "                        <td id=\"T_d167c8c0_42ae_11e9_b1b1_c4b301d90893row1_col9\" class=\"data row1 col9\" >1949</td>\n",
       "                        <td id=\"T_d167c8c0_42ae_11e9_b1b1_c4b301d90893row1_col10\" class=\"data row1 col10\" >Trad</td>\n",
       "            </tr>\n",
       "            <tr>\n",
       "                        <th id=\"T_d167c8c0_42ae_11e9_b1b1_c4b301d90893level0_row2\" class=\"row_heading level0 row2\" >238</th>\n",
       "                        <td id=\"T_d167c8c0_42ae_11e9_b1b1_c4b301d90893row2_col0\" class=\"data row2 col0\" >238</td>\n",
       "                        <td id=\"T_d167c8c0_42ae_11e9_b1b1_c4b301d90893row2_col1\" class=\"data row2 col1\" >Blunderbus</td>\n",
       "                        <td id=\"T_d167c8c0_42ae_11e9_b1b1_c4b301d90893row2_col2\" class=\"data row2 col2\" ><a href=\"https://www.mountainproject.com/route/108242249/blunderbus\" target=\"_blank\">https://www.mountainproject.com/route/108242249/blunderbus</a></td>\n",
       "                        <td id=\"T_d167c8c0_42ae_11e9_b1b1_c4b301d90893row2_col3\" class=\"data row2 col3\" >5.9+</td>\n",
       "                        <td id=\"T_d167c8c0_42ae_11e9_b1b1_c4b301d90893row2_col4\" class=\"data row2 col4\" >1</td>\n",
       "                        <td id=\"T_d167c8c0_42ae_11e9_b1b1_c4b301d90893row2_col5\" class=\"data row2 col5\" >90</td>\n",
       "                        <td id=\"T_d167c8c0_42ae_11e9_b1b1_c4b301d90893row2_col6\" class=\"data row2 col6\" >1</td>\n",
       "                        <td id=\"T_d167c8c0_42ae_11e9_b1b1_c4b301d90893row2_col7\" class=\"data row2 col7\" >5</td>\n",
       "                        <td id=\"T_d167c8c0_42ae_11e9_b1b1_c4b301d90893row2_col8\" class=\"data row2 col8\" >9</td>\n",
       "                        <td id=\"T_d167c8c0_42ae_11e9_b1b1_c4b301d90893row2_col9\" class=\"data row2 col9\" >613</td>\n",
       "                        <td id=\"T_d167c8c0_42ae_11e9_b1b1_c4b301d90893row2_col10\" class=\"data row2 col10\" >Trad</td>\n",
       "            </tr>\n",
       "    </tbody></table>"
      ],
      "text/plain": [
       "<pandas.io.formats.style.Styler at 0x125c147d0>"
      ]
     },
     "metadata": {},
     "output_type": "display_data"
    },
    {
     "data": {
      "text/html": [
       "<div>\n",
       "<style scoped>\n",
       "    .dataframe tbody tr th:only-of-type {\n",
       "        vertical-align: middle;\n",
       "    }\n",
       "\n",
       "    .dataframe tbody tr th {\n",
       "        vertical-align: top;\n",
       "    }\n",
       "\n",
       "    .dataframe thead th {\n",
       "        text-align: right;\n",
       "    }\n",
       "</style>\n",
       "<table border=\"1\" class=\"dataframe\">\n",
       "  <thead>\n",
       "    <tr style=\"text-align: right;\">\n",
       "      <th></th>\n",
       "      <th>uid</th>\n",
       "      <th>iid</th>\n",
       "      <th>rating</th>\n",
       "    </tr>\n",
       "  </thead>\n",
       "  <tbody>\n",
       "    <tr>\n",
       "      <th>16047</th>\n",
       "      <td>1752</td>\n",
       "      <td>196</td>\n",
       "      <td>4</td>\n",
       "    </tr>\n",
       "    <tr>\n",
       "      <th>21936</th>\n",
       "      <td>1569</td>\n",
       "      <td>277</td>\n",
       "      <td>4</td>\n",
       "    </tr>\n",
       "    <tr>\n",
       "      <th>29712</th>\n",
       "      <td>94</td>\n",
       "      <td>446</td>\n",
       "      <td>2</td>\n",
       "    </tr>\n",
       "  </tbody>\n",
       "</table>\n",
       "</div>"
      ],
      "text/plain": [
       "        uid  iid  rating\n",
       "16047  1752  196       4\n",
       "21936  1569  277       4\n",
       "29712    94  446       2"
      ]
     },
     "metadata": {},
     "output_type": "display_data"
    }
   ],
   "source": [
    "display(df_users.sample(3).style.format(util.make_clickable, subset=['user_url']))\n",
    "display(df_items.drop('description', axis=1).sample(3).style.format(util.make_clickable, subset=['route_url']))\n",
    "display(df_ratings.sample(3))"
   ]
  },
  {
   "cell_type": "markdown",
   "metadata": {},
   "source": [
    "# Plot distributions"
   ]
  },
  {
   "cell_type": "code",
   "execution_count": 4,
   "metadata": {},
   "outputs": [
    {
     "data": {
      "text/plain": [
       "((2432, 4), (470, 12), (31431, 3))"
      ]
     },
     "execution_count": 4,
     "metadata": {},
     "output_type": "execute_result"
    }
   ],
   "source": [
    "df_users.shape, df_items.shape, df_ratings.shape"
   ]
  },
  {
   "cell_type": "code",
   "execution_count": 5,
   "metadata": {},
   "outputs": [
    {
     "data": {
      "text/plain": [
       "((2427,), (470,))"
      ]
     },
     "execution_count": 5,
     "metadata": {},
     "output_type": "execute_result"
    }
   ],
   "source": [
    "df_users['name'].unique().shape, df_items['route_name'].unique().shape"
   ]
  },
  {
   "cell_type": "code",
   "execution_count": 6,
   "metadata": {},
   "outputs": [
    {
     "name": "stdout",
     "output_type": "stream",
     "text": [
      "2432.0\n"
     ]
    },
    {
     "data": {
      "image/png": "[encoded data removed]",
      "text/plain": [
       "<Figure size 432x288 with 1 Axes>"
      ]
     },
     "metadata": {
      "needs_background": "light"
     },
     "output_type": "display_data"
    }
   ],
   "source": [
    "grouped = df_ratings.groupby('uid')\n",
    "ratings_per_climber = grouped.size().values\n",
    "\n",
    "fig, ax = plt.subplots()\n",
    "counts, bins, _ = ax.hist(ratings_per_climber, bins=np.logspace(0, 3, 50))\n",
    "ax.set_xscale('log')\n",
    "ax.set_xlabel('Number of ratings a climber has given')\n",
    "ax.set_ylabel('Climbers who have given this number of ratings')\n",
    "print np.sum(counts)"
   ]
  },
  {
   "cell_type": "code",
   "execution_count": 7,
   "metadata": {},
   "outputs": [
    {
     "data": {
      "text/plain": [
       "469.0"
      ]
     },
     "execution_count": 7,
     "metadata": {},
     "output_type": "execute_result"
    },
    {
     "data": {
      "image/png": "[encoded data removed]",
      "text/plain": [
       "<Figure size 432x288 with 1 Axes>"
      ]
     },
     "metadata": {
      "needs_background": "light"
     },
     "output_type": "display_data"
    }
   ],
   "source": [
    "grouped = df_ratings.groupby('iid')\n",
    "ratings_per_route = grouped.size().values\n",
    "\n",
    "fig, ax = plt.subplots()\n",
    "counts, _, _ = ax.hist(ratings_per_route, bins=np.logspace(0, 3, 50))\n",
    "ax.set_xscale('log')\n",
    "ax.set_xlabel('Number of ratings for a route')\n",
    "ax.set_ylabel('Routes with this number of ratings')\n",
    "np.sum(counts)"
   ]
  },
  {
   "cell_type": "code",
   "execution_count": 8,
   "metadata": {},
   "outputs": [
    {
     "data": {
      "text/plain": [
       "<matplotlib.axes._subplots.AxesSubplot at 0x1282ae7d0>"
      ]
     },
     "execution_count": 8,
     "metadata": {},
     "output_type": "execute_result"
    },
    {
     "data": {
      "image/png": "[encoded data removed]",
      "text/plain": [
       "<Figure size 432x288 with 1 Axes>"
      ]
     },
     "metadata": {
      "needs_background": "light"
     },
     "output_type": "display_data"
    }
   ],
   "source": [
    "sns.countplot(x='rating', data=df_ratings)"
   ]
  }
 ],
 "metadata": {
  "kernelspec": {
   "display_name": "Python 2",
   "language": "python",
   "name": "python2"
  },
  "language_info": {
   "codemirror_mode": {
    "name": "ipython",
    "version": 2
   },
   "file_extension": ".py",
   "mimetype": "text/x-python",
   "name": "python",
   "nbconvert_exporter": "python",
   "pygments_lexer": "ipython2",
   "version": "2.7.14"
  }
 },
 "nbformat": 4,
 "nbformat_minor": 2
}
