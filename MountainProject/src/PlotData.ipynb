{
 "cells": [
  {
   "cell_type": "code",
   "execution_count": 2,
   "metadata": {},
   "outputs": [
    {
     "name": "stdout",
     "output_type": "stream",
     "text": [
      "Populating the interactive namespace from numpy and matplotlib\n"
     ]
    }
   ],
   "source": [
    "%pylab inline\n",
    "\n",
    "# Plotting\n",
    "import matplotlib.pyplot as plt\n",
    "import seaborn as sns\n",
    "\n",
    "import numpy as np\n",
    "import sqlite3\n",
    "import pandas as pd\n",
    "\n",
    "import utilities as util"
   ]
  },
  {
   "cell_type": "markdown",
   "metadata": {},
   "source": [
    "# Load data"
   ]
  },
  {
   "cell_type": "code",
   "execution_count": 3,
   "metadata": {},
   "outputs": [],
   "source": [
    "filename = '../data/mountain_project_gunks.sqlite'\n",
    "conn = sqlite3.connect(filename)\n",
    "\n",
    "# Climber profiles\n",
    "df_users = pd.read_sql('SELECT * FROM users', conn)\n",
    "\n",
    "# Route data\n",
    "df_items = pd.read_sql(\"\"\"\n",
    "SELECT items.*, pro.pro_type\n",
    "FROM items JOIN pro \n",
    "ON items.pro_id = pro.id\n",
    "\"\"\", conn)\n",
    "\n",
    "# Ratings of each route\n",
    "df_ratings = pd.read_sql('SELECT * FROM ratings', conn)"
   ]
  },
  {
   "cell_type": "code",
   "execution_count": 5,
   "metadata": {},
   "outputs": [
    {
     "data": {
      "text/plain": [
       "((2432, 4), (470, 12), (31431, 3))"
      ]
     },
     "execution_count": 5,
     "metadata": {},
     "output_type": "execute_result"
    }
   ],
   "source": [
    "df_users.shape, df_items.shape, df_ratings.shape"
   ]
  },
  {
   "cell_type": "code",
   "execution_count": 16,
   "metadata": {},
   "outputs": [
    {
     "data": {
      "text/html": [
       "<style  type=\"text/css\" >\n",
       "</style><table id=\"T_0275cbf8_439a_11e9_8174_c4b301d90893\" ><thead>    <tr>        <th class=\"blank level0\" ></th>        <th class=\"col_heading level0 col0\" >uid</th>        <th class=\"col_heading level0 col1\" >name</th>        <th class=\"col_heading level0 col2\" >user_url</th>        <th class=\"col_heading level0 col3\" >profile</th>    </tr></thead><tbody>\n",
       "                <tr>\n",
       "                        <th id=\"T_0275cbf8_439a_11e9_8174_c4b301d90893level0_row0\" class=\"row_heading level0 row0\" >1664</th>\n",
       "                        <td id=\"T_0275cbf8_439a_11e9_8174_c4b301d90893row0_col0\" class=\"data row0 col0\" >1664</td>\n",
       "                        <td id=\"T_0275cbf8_439a_11e9_8174_c4b301d90893row0_col1\" class=\"data row0 col1\" >DickBerg</td>\n",
       "                        <td id=\"T_0275cbf8_439a_11e9_8174_c4b301d90893row0_col2\" class=\"data row0 col2\" ><a href=\"https://www.mountainproject.com/user/112354380/dickberg\" target=\"_blank\">https://www.mountainproject.com/user/112354380/dickberg</a></td>\n",
       "                        <td id=\"T_0275cbf8_439a_11e9_8174_c4b301d90893row0_col3\" class=\"data row0 col3\" >Vancouver</td>\n",
       "            </tr>\n",
       "            <tr>\n",
       "                        <th id=\"T_0275cbf8_439a_11e9_8174_c4b301d90893level0_row1\" class=\"row_heading level0 row1\" >788</th>\n",
       "                        <td id=\"T_0275cbf8_439a_11e9_8174_c4b301d90893row1_col0\" class=\"data row1 col0\" >788</td>\n",
       "                        <td id=\"T_0275cbf8_439a_11e9_8174_c4b301d90893row1_col1\" class=\"data row1 col1\" >John Peterson</td>\n",
       "                        <td id=\"T_0275cbf8_439a_11e9_8174_c4b301d90893row1_col2\" class=\"data row1 col2\" ><a href=\"https://www.mountainproject.com/user/11926/john-peterson\" target=\"_blank\">https://www.mountainproject.com/user/11926/john-peterson</a></td>\n",
       "                        <td id=\"T_0275cbf8_439a_11e9_8174_c4b301d90893row1_col3\" class=\"data row1 col3\" >63 years old  Male</td>\n",
       "            </tr>\n",
       "            <tr>\n",
       "                        <th id=\"T_0275cbf8_439a_11e9_8174_c4b301d90893level0_row2\" class=\"row_heading level0 row2\" >852</th>\n",
       "                        <td id=\"T_0275cbf8_439a_11e9_8174_c4b301d90893row2_col0\" class=\"data row2 col0\" >852</td>\n",
       "                        <td id=\"T_0275cbf8_439a_11e9_8174_c4b301d90893row2_col1\" class=\"data row2 col1\" >Rob Angelora</td>\n",
       "                        <td id=\"T_0275cbf8_439a_11e9_8174_c4b301d90893row2_col2\" class=\"data row2 col2\" ><a href=\"https://www.mountainproject.com/user/111203516/rob-angelora\" target=\"_blank\">https://www.mountainproject.com/user/111203516/rob-angelora</a></td>\n",
       "                        <td id=\"T_0275cbf8_439a_11e9_8174_c4b301d90893row2_col3\" class=\"data row2 col3\" >None</td>\n",
       "            </tr>\n",
       "    </tbody></table>"
      ],
      "text/plain": [
       "<pandas.io.formats.style.Styler at 0x121937710>"
      ]
     },
     "metadata": {},
     "output_type": "display_data"
    },
    {
     "data": {
      "text/html": [
       "<style  type=\"text/css\" >\n",
       "</style><table id=\"T_027761f3_439a_11e9_8cf9_c4b301d90893\" ><thead>    <tr>        <th class=\"blank level0\" ></th>        <th class=\"col_heading level0 col0\" >iid</th>        <th class=\"col_heading level0 col1\" >route_name</th>        <th class=\"col_heading level0 col2\" >route_url</th>        <th class=\"col_heading level0 col3\" >difficulty</th>        <th class=\"col_heading level0 col4\" >pro_id</th>        <th class=\"col_heading level0 col5\" >length</th>        <th class=\"col_heading level0 col6\" >pitches</th>        <th class=\"col_heading level0 col7\" >nratings</th>        <th class=\"col_heading level0 col8\" >monthly_views</th>        <th class=\"col_heading level0 col9\" >total_views</th>        <th class=\"col_heading level0 col10\" >pro_type</th>    </tr></thead><tbody>\n",
       "                <tr>\n",
       "                        <th id=\"T_027761f3_439a_11e9_8cf9_c4b301d90893level0_row0\" class=\"row_heading level0 row0\" >94</th>\n",
       "                        <td id=\"T_027761f3_439a_11e9_8cf9_c4b301d90893row0_col0\" class=\"data row0 col0\" >94</td>\n",
       "                        <td id=\"T_027761f3_439a_11e9_8cf9_c4b301d90893row0_col1\" class=\"data row0 col1\" >Scungilli</td>\n",
       "                        <td id=\"T_027761f3_439a_11e9_8cf9_c4b301d90893row0_col2\" class=\"data row0 col2\" ><a href=\"https://www.mountainproject.com/route/109021363/scungilli\" target=\"_blank\">https://www.mountainproject.com/route/109021363/scungilli</a></td>\n",
       "                        <td id=\"T_027761f3_439a_11e9_8cf9_c4b301d90893row0_col3\" class=\"data row0 col3\" >5.7</td>\n",
       "                        <td id=\"T_027761f3_439a_11e9_8cf9_c4b301d90893row0_col4\" class=\"data row0 col4\" >1</td>\n",
       "                        <td id=\"T_027761f3_439a_11e9_8cf9_c4b301d90893row0_col5\" class=\"data row0 col5\" >180</td>\n",
       "                        <td id=\"T_027761f3_439a_11e9_8cf9_c4b301d90893row0_col6\" class=\"data row0 col6\" >2</td>\n",
       "                        <td id=\"T_027761f3_439a_11e9_8cf9_c4b301d90893row0_col7\" class=\"data row0 col7\" >6</td>\n",
       "                        <td id=\"T_027761f3_439a_11e9_8cf9_c4b301d90893row0_col8\" class=\"data row0 col8\" >11</td>\n",
       "                        <td id=\"T_027761f3_439a_11e9_8cf9_c4b301d90893row0_col9\" class=\"data row0 col9\" >629</td>\n",
       "                        <td id=\"T_027761f3_439a_11e9_8cf9_c4b301d90893row0_col10\" class=\"data row0 col10\" >Trad</td>\n",
       "            </tr>\n",
       "            <tr>\n",
       "                        <th id=\"T_027761f3_439a_11e9_8cf9_c4b301d90893level0_row1\" class=\"row_heading level0 row1\" >254</th>\n",
       "                        <td id=\"T_027761f3_439a_11e9_8cf9_c4b301d90893row1_col0\" class=\"data row1 col0\" >254</td>\n",
       "                        <td id=\"T_027761f3_439a_11e9_8cf9_c4b301d90893row1_col1\" class=\"data row1 col1\" >Country Roads</td>\n",
       "                        <td id=\"T_027761f3_439a_11e9_8cf9_c4b301d90893row1_col2\" class=\"data row1 col2\" ><a href=\"https://www.mountainproject.com/route/106853208/country-roads\" target=\"_blank\">https://www.mountainproject.com/route/106853208/country-roads</a></td>\n",
       "                        <td id=\"T_027761f3_439a_11e9_8cf9_c4b301d90893row1_col3\" class=\"data row1 col3\" >5.11b</td>\n",
       "                        <td id=\"T_027761f3_439a_11e9_8cf9_c4b301d90893row1_col4\" class=\"data row1 col4\" >1</td>\n",
       "                        <td id=\"T_027761f3_439a_11e9_8cf9_c4b301d90893row1_col5\" class=\"data row1 col5\" >210</td>\n",
       "                        <td id=\"T_027761f3_439a_11e9_8cf9_c4b301d90893row1_col6\" class=\"data row1 col6\" >2</td>\n",
       "                        <td id=\"T_027761f3_439a_11e9_8cf9_c4b301d90893row1_col7\" class=\"data row1 col7\" >9</td>\n",
       "                        <td id=\"T_027761f3_439a_11e9_8cf9_c4b301d90893row1_col8\" class=\"data row1 col8\" >15</td>\n",
       "                        <td id=\"T_027761f3_439a_11e9_8cf9_c4b301d90893row1_col9\" class=\"data row1 col9\" >1545</td>\n",
       "                        <td id=\"T_027761f3_439a_11e9_8cf9_c4b301d90893row1_col10\" class=\"data row1 col10\" >Trad</td>\n",
       "            </tr>\n",
       "            <tr>\n",
       "                        <th id=\"T_027761f3_439a_11e9_8cf9_c4b301d90893level0_row2\" class=\"row_heading level0 row2\" >241</th>\n",
       "                        <td id=\"T_027761f3_439a_11e9_8cf9_c4b301d90893row2_col0\" class=\"data row2 col0\" >241</td>\n",
       "                        <td id=\"T_027761f3_439a_11e9_8cf9_c4b301d90893row2_col1\" class=\"data row2 col1\" >Wild Horses</td>\n",
       "                        <td id=\"T_027761f3_439a_11e9_8cf9_c4b301d90893row2_col2\" class=\"data row2 col2\" ><a href=\"https://www.mountainproject.com/route/106146799/wild-horses\" target=\"_blank\">https://www.mountainproject.com/route/106146799/wild-horses</a></td>\n",
       "                        <td id=\"T_027761f3_439a_11e9_8cf9_c4b301d90893row2_col3\" class=\"data row2 col3\" >5.9+</td>\n",
       "                        <td id=\"T_027761f3_439a_11e9_8cf9_c4b301d90893row2_col4\" class=\"data row2 col4\" >1</td>\n",
       "                        <td id=\"T_027761f3_439a_11e9_8cf9_c4b301d90893row2_col5\" class=\"data row2 col5\" >170</td>\n",
       "                        <td id=\"T_027761f3_439a_11e9_8cf9_c4b301d90893row2_col6\" class=\"data row2 col6\" >2</td>\n",
       "                        <td id=\"T_027761f3_439a_11e9_8cf9_c4b301d90893row2_col7\" class=\"data row2 col7\" >42</td>\n",
       "                        <td id=\"T_027761f3_439a_11e9_8cf9_c4b301d90893row2_col8\" class=\"data row2 col8\" >16</td>\n",
       "                        <td id=\"T_027761f3_439a_11e9_8cf9_c4b301d90893row2_col9\" class=\"data row2 col9\" >2126</td>\n",
       "                        <td id=\"T_027761f3_439a_11e9_8cf9_c4b301d90893row2_col10\" class=\"data row2 col10\" >Trad</td>\n",
       "            </tr>\n",
       "    </tbody></table>"
      ],
      "text/plain": [
       "<pandas.io.formats.style.Styler at 0x1223c1710>"
      ]
     },
     "metadata": {},
     "output_type": "display_data"
    },
    {
     "data": {
      "text/html": [
       "<div>\n",
       "<style scoped>\n",
       "    .dataframe tbody tr th:only-of-type {\n",
       "        vertical-align: middle;\n",
       "    }\n",
       "\n",
       "    .dataframe tbody tr th {\n",
       "        vertical-align: top;\n",
       "    }\n",
       "\n",
       "    .dataframe thead th {\n",
       "        text-align: right;\n",
       "    }\n",
       "</style>\n",
       "<table border=\"1\" class=\"dataframe\">\n",
       "  <thead>\n",
       "    <tr style=\"text-align: right;\">\n",
       "      <th></th>\n",
       "      <th>uid</th>\n",
       "      <th>iid</th>\n",
       "      <th>rating</th>\n",
       "    </tr>\n",
       "  </thead>\n",
       "  <tbody>\n",
       "    <tr>\n",
       "      <th>26822</th>\n",
       "      <td>2328</td>\n",
       "      <td>329</td>\n",
       "      <td>2</td>\n",
       "    </tr>\n",
       "    <tr>\n",
       "      <th>18332</th>\n",
       "      <td>584</td>\n",
       "      <td>230</td>\n",
       "      <td>2</td>\n",
       "    </tr>\n",
       "    <tr>\n",
       "      <th>2898</th>\n",
       "      <td>295</td>\n",
       "      <td>35</td>\n",
       "      <td>2</td>\n",
       "    </tr>\n",
       "  </tbody>\n",
       "</table>\n",
       "</div>"
      ],
      "text/plain": [
       "        uid  iid  rating\n",
       "26822  2328  329       2\n",
       "18332   584  230       2\n",
       "2898    295   35       2"
      ]
     },
     "metadata": {},
     "output_type": "display_data"
    }
   ],
   "source": [
    "display(df_users.sample(3).style.format(util.make_clickable, subset=['user_url']))\n",
    "display(df_items.sample(3).drop('description', axis=1).style.format(util.make_clickable, subset=['route_url']))\n",
    "display(df_ratings.sample(3))"
   ]
  },
  {
   "cell_type": "markdown",
   "metadata": {},
   "source": [
    "# Plot distributions"
   ]
  },
  {
   "cell_type": "code",
   "execution_count": 7,
   "metadata": {},
   "outputs": [
    {
     "name": "stdout",
     "output_type": "stream",
     "text": [
      "2432.0\n"
     ]
    },
    {
     "data": {
      "image/png": "[encoded data removed]",
      "text/plain": [
       "<Figure size 432x288 with 1 Axes>"
      ]
     },
     "metadata": {
      "needs_background": "light"
     },
     "output_type": "display_data"
    }
   ],
   "source": [
    "grouped = df_ratings.groupby('uid')\n",
    "ratings_per_climber = grouped.size().values\n",
    "\n",
    "fig, ax = plt.subplots()\n",
    "counts, bins, _ = ax.hist(ratings_per_climber, bins=np.logspace(0, 3, 50))\n",
    "ax.set_xscale('log')\n",
    "ax.set_xlabel('Number of ratings a climber has given')\n",
    "ax.set_ylabel('Climbers who have given this number of ratings')\n",
    "print np.sum(counts)"
   ]
  },
  {
   "cell_type": "code",
   "execution_count": 8,
   "metadata": {},
   "outputs": [
    {
     "data": {
      "text/plain": [
       "469.0"
      ]
     },
     "execution_count": 8,
     "metadata": {},
     "output_type": "execute_result"
    },
    {
     "data": {
      "image/png": "[encoded data removed]",
      "text/plain": [
       "<Figure size 432x288 with 1 Axes>"
      ]
     },
     "metadata": {
      "needs_background": "light"
     },
     "output_type": "display_data"
    }
   ],
   "source": [
    "grouped = df_ratings.groupby('iid')\n",
    "ratings_per_route = grouped.size().values\n",
    "\n",
    "fig, ax = plt.subplots()\n",
    "counts, _, _ = ax.hist(ratings_per_route, bins=np.logspace(0, 3, 50))\n",
    "ax.set_xscale('log')\n",
    "ax.set_xlabel('Number of ratings for a route')\n",
    "ax.set_ylabel('Routes with this number of ratings')\n",
    "np.sum(counts)"
   ]
  },
  {
   "cell_type": "code",
   "execution_count": 9,
   "metadata": {},
   "outputs": [
    {
     "data": {
      "text/plain": [
       "<matplotlib.axes._subplots.AxesSubplot at 0x11f67a950>"
      ]
     },
     "execution_count": 9,
     "metadata": {},
     "output_type": "execute_result"
    },
    {
     "data": {
      "image/png": "[encoded data removed]",
      "text/plain": [
       "<Figure size 432x288 with 1 Axes>"
      ]
     },
     "metadata": {
      "needs_background": "light"
     },
     "output_type": "display_data"
    }
   ],
   "source": [
    "sns.countplot(x='rating', data=df_ratings)"
   ]
  },
  {
   "cell_type": "code",
   "execution_count": 14,
   "metadata": {},
   "outputs": [
    {
     "data": {
      "text/plain": [
       "Text(0,0.5,'Climbers who have given this number of ratings')"
      ]
     },
     "execution_count": 14,
     "metadata": {},
     "output_type": "execute_result"
    },
    {
     "data": {
      "image/png": "[encoded data removed]",
      "text/plain": [
       "<Figure size 864x288 with 2 Axes>"
      ]
     },
     "metadata": {
      "needs_background": "light"
     },
     "output_type": "display_data"
    }
   ],
   "source": [
    "fig, (ax1, ax2) = plt.subplots(1, 2, figsize=(12, 4))\n",
    "\n",
    "sns.countplot(x='rating', data=df_ratings, ax=ax1)\n",
    "\n",
    "grouped = df_ratings.groupby('uid')\n",
    "ratings_per_climber = grouped.size().values\n",
    "\n",
    "counts, bins, _ = ax2.hist(ratings_per_climber, bins=np.logspace(0, 3, 50))\n",
    "ax2.set_xscale('log')\n",
    "ax2.set_xlabel('Number of ratings a climber has given')\n",
    "ax2.set_ylabel('Climbers who have given this number of ratings')"
   ]
  },
  {
   "cell_type": "code",
   "execution_count": null,
   "metadata": {},
   "outputs": [],
   "source": []
  }
 ],
 "metadata": {
  "kernelspec": {
   "display_name": "Python 2",
   "language": "python",
   "name": "python2"
  },
  "language_info": {
   "codemirror_mode": {
    "name": "ipython",
    "version": 2
   },
   "file_extension": ".py",
   "mimetype": "text/x-python",
   "name": "python",
   "nbconvert_exporter": "python",
   "pygments_lexer": "ipython2",
   "version": "2.7.14"
  }
 },
 "nbformat": 4,
 "nbformat_minor": 2
}
